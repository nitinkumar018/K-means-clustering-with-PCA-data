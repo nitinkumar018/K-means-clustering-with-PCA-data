{
 "cells": [
  {
   "cell_type": "markdown",
   "id": "9f5ecbad",
   "metadata": {},
   "source": [
    "# Task 1: Exploratory Data Analysis (EDA):"
   ]
  },
  {
   "cell_type": "code",
   "execution_count": 1,
   "id": "e6ecc118",
   "metadata": {},
   "outputs": [],
   "source": [
    "import warnings                   # import library warnings\n",
    "warnings.filterwarnings('ignore')  # it will ignore warnings in the code"
   ]
  },
  {
   "cell_type": "code",
   "execution_count": 2,
   "id": "dc1f3ca1",
   "metadata": {},
   "outputs": [
    {
     "data": {
      "text/html": [
       "<div>\n",
       "<style scoped>\n",
       "    .dataframe tbody tr th:only-of-type {\n",
       "        vertical-align: middle;\n",
       "    }\n",
       "\n",
       "    .dataframe tbody tr th {\n",
       "        vertical-align: top;\n",
       "    }\n",
       "\n",
       "    .dataframe thead th {\n",
       "        text-align: right;\n",
       "    }\n",
       "</style>\n",
       "<table border=\"1\" class=\"dataframe\">\n",
       "  <thead>\n",
       "    <tr style=\"text-align: right;\">\n",
       "      <th></th>\n",
       "      <th>Type</th>\n",
       "      <th>Alcohol</th>\n",
       "      <th>Malic</th>\n",
       "      <th>Ash</th>\n",
       "      <th>Alcalinity</th>\n",
       "      <th>Magnesium</th>\n",
       "      <th>Phenols</th>\n",
       "      <th>Flavanoids</th>\n",
       "      <th>Nonflavanoids</th>\n",
       "      <th>Proanthocyanins</th>\n",
       "      <th>Color</th>\n",
       "      <th>Hue</th>\n",
       "      <th>Dilution</th>\n",
       "      <th>Proline</th>\n",
       "    </tr>\n",
       "  </thead>\n",
       "  <tbody>\n",
       "    <tr>\n",
       "      <th>0</th>\n",
       "      <td>1</td>\n",
       "      <td>14.23</td>\n",
       "      <td>1.71</td>\n",
       "      <td>2.43</td>\n",
       "      <td>15.6</td>\n",
       "      <td>127</td>\n",
       "      <td>2.80</td>\n",
       "      <td>3.06</td>\n",
       "      <td>0.28</td>\n",
       "      <td>2.29</td>\n",
       "      <td>5.64</td>\n",
       "      <td>1.04</td>\n",
       "      <td>3.92</td>\n",
       "      <td>1065</td>\n",
       "    </tr>\n",
       "    <tr>\n",
       "      <th>1</th>\n",
       "      <td>1</td>\n",
       "      <td>13.20</td>\n",
       "      <td>1.78</td>\n",
       "      <td>2.14</td>\n",
       "      <td>11.2</td>\n",
       "      <td>100</td>\n",
       "      <td>2.65</td>\n",
       "      <td>2.76</td>\n",
       "      <td>0.26</td>\n",
       "      <td>1.28</td>\n",
       "      <td>4.38</td>\n",
       "      <td>1.05</td>\n",
       "      <td>3.40</td>\n",
       "      <td>1050</td>\n",
       "    </tr>\n",
       "    <tr>\n",
       "      <th>2</th>\n",
       "      <td>1</td>\n",
       "      <td>13.16</td>\n",
       "      <td>2.36</td>\n",
       "      <td>2.67</td>\n",
       "      <td>18.6</td>\n",
       "      <td>101</td>\n",
       "      <td>2.80</td>\n",
       "      <td>3.24</td>\n",
       "      <td>0.30</td>\n",
       "      <td>2.81</td>\n",
       "      <td>5.68</td>\n",
       "      <td>1.03</td>\n",
       "      <td>3.17</td>\n",
       "      <td>1185</td>\n",
       "    </tr>\n",
       "    <tr>\n",
       "      <th>3</th>\n",
       "      <td>1</td>\n",
       "      <td>14.37</td>\n",
       "      <td>1.95</td>\n",
       "      <td>2.50</td>\n",
       "      <td>16.8</td>\n",
       "      <td>113</td>\n",
       "      <td>3.85</td>\n",
       "      <td>3.49</td>\n",
       "      <td>0.24</td>\n",
       "      <td>2.18</td>\n",
       "      <td>7.80</td>\n",
       "      <td>0.86</td>\n",
       "      <td>3.45</td>\n",
       "      <td>1480</td>\n",
       "    </tr>\n",
       "    <tr>\n",
       "      <th>4</th>\n",
       "      <td>1</td>\n",
       "      <td>13.24</td>\n",
       "      <td>2.59</td>\n",
       "      <td>2.87</td>\n",
       "      <td>21.0</td>\n",
       "      <td>118</td>\n",
       "      <td>2.80</td>\n",
       "      <td>2.69</td>\n",
       "      <td>0.39</td>\n",
       "      <td>1.82</td>\n",
       "      <td>4.32</td>\n",
       "      <td>1.04</td>\n",
       "      <td>2.93</td>\n",
       "      <td>735</td>\n",
       "    </tr>\n",
       "  </tbody>\n",
       "</table>\n",
       "</div>"
      ],
      "text/plain": [
       "   Type  Alcohol  Malic   Ash  Alcalinity  Magnesium  Phenols  Flavanoids  \\\n",
       "0     1    14.23   1.71  2.43        15.6        127     2.80        3.06   \n",
       "1     1    13.20   1.78  2.14        11.2        100     2.65        2.76   \n",
       "2     1    13.16   2.36  2.67        18.6        101     2.80        3.24   \n",
       "3     1    14.37   1.95  2.50        16.8        113     3.85        3.49   \n",
       "4     1    13.24   2.59  2.87        21.0        118     2.80        2.69   \n",
       "\n",
       "   Nonflavanoids  Proanthocyanins  Color   Hue  Dilution  Proline  \n",
       "0           0.28             2.29   5.64  1.04      3.92     1065  \n",
       "1           0.26             1.28   4.38  1.05      3.40     1050  \n",
       "2           0.30             2.81   5.68  1.03      3.17     1185  \n",
       "3           0.24             2.18   7.80  0.86      3.45     1480  \n",
       "4           0.39             1.82   4.32  1.04      2.93      735  "
      ]
     },
     "execution_count": 2,
     "metadata": {},
     "output_type": "execute_result"
    }
   ],
   "source": [
    "import pandas as pd\n",
    "data=pd.read_csv(r'wine.csv', header= 0) # load the dataset and save in var. data (make row 0 as header)\n",
    "data.head() #display top 5 rows"
   ]
  },
  {
   "cell_type": "code",
   "execution_count": 3,
   "id": "bf6d29c6",
   "metadata": {},
   "outputs": [
    {
     "name": "stdout",
     "output_type": "stream",
     "text": [
      "<class 'pandas.core.frame.DataFrame'>\n",
      "RangeIndex: 178 entries, 0 to 177\n",
      "Data columns (total 14 columns):\n",
      " #   Column           Non-Null Count  Dtype  \n",
      "---  ------           --------------  -----  \n",
      " 0   Type             178 non-null    int64  \n",
      " 1   Alcohol          178 non-null    float64\n",
      " 2   Malic            178 non-null    float64\n",
      " 3   Ash              178 non-null    float64\n",
      " 4   Alcalinity       178 non-null    float64\n",
      " 5   Magnesium        178 non-null    int64  \n",
      " 6   Phenols          178 non-null    float64\n",
      " 7   Flavanoids       178 non-null    float64\n",
      " 8   Nonflavanoids    178 non-null    float64\n",
      " 9   Proanthocyanins  178 non-null    float64\n",
      " 10  Color            178 non-null    float64\n",
      " 11  Hue              178 non-null    float64\n",
      " 12  Dilution         178 non-null    float64\n",
      " 13  Proline          178 non-null    int64  \n",
      "dtypes: float64(11), int64(3)\n",
      "memory usage: 19.6 KB\n"
     ]
    }
   ],
   "source": [
    "data.info() # it gives information about no. of null values and data types of each column"
   ]
  },
  {
   "cell_type": "code",
   "execution_count": 4,
   "id": "e99a4030",
   "metadata": {},
   "outputs": [
    {
     "data": {
      "text/plain": [
       "Type               0\n",
       "Alcohol            0\n",
       "Malic              0\n",
       "Ash                0\n",
       "Alcalinity         0\n",
       "Magnesium          0\n",
       "Phenols            0\n",
       "Flavanoids         0\n",
       "Nonflavanoids      0\n",
       "Proanthocyanins    0\n",
       "Color              0\n",
       "Hue                0\n",
       "Dilution           0\n",
       "Proline            0\n",
       "dtype: int64"
      ]
     },
     "execution_count": 4,
     "metadata": {},
     "output_type": "execute_result"
    }
   ],
   "source": [
    "data.isnull().sum() # no. of null values in each column"
   ]
  },
  {
   "cell_type": "markdown",
   "id": "8fe4688f",
   "metadata": {},
   "source": [
    "It means, there is no null value in the dataset"
   ]
  },
  {
   "cell_type": "code",
   "execution_count": 5,
   "id": "c3568d95",
   "metadata": {},
   "outputs": [
    {
     "data": {
      "text/plain": [
       "Type                 int64\n",
       "Alcohol            float64\n",
       "Malic              float64\n",
       "Ash                float64\n",
       "Alcalinity         float64\n",
       "Magnesium            int64\n",
       "Phenols            float64\n",
       "Flavanoids         float64\n",
       "Nonflavanoids      float64\n",
       "Proanthocyanins    float64\n",
       "Color              float64\n",
       "Hue                float64\n",
       "Dilution           float64\n",
       "Proline              int64\n",
       "dtype: object"
      ]
     },
     "execution_count": 5,
     "metadata": {},
     "output_type": "execute_result"
    }
   ],
   "source": [
    "data.dtypes # data type of each column"
   ]
  },
  {
   "cell_type": "code",
   "execution_count": 6,
   "id": "068edf1c",
   "metadata": {},
   "outputs": [
    {
     "data": {
      "text/plain": [
       "(178, 14)"
      ]
     },
     "execution_count": 6,
     "metadata": {},
     "output_type": "execute_result"
    }
   ],
   "source": [
    "data.shape # no. of rows and no. of columns"
   ]
  },
  {
   "cell_type": "code",
   "execution_count": 7,
   "id": "ec16fe56",
   "metadata": {},
   "outputs": [
    {
     "data": {
      "text/html": [
       "<div>\n",
       "<style scoped>\n",
       "    .dataframe tbody tr th:only-of-type {\n",
       "        vertical-align: middle;\n",
       "    }\n",
       "\n",
       "    .dataframe tbody tr th {\n",
       "        vertical-align: top;\n",
       "    }\n",
       "\n",
       "    .dataframe thead th {\n",
       "        text-align: right;\n",
       "    }\n",
       "</style>\n",
       "<table border=\"1\" class=\"dataframe\">\n",
       "  <thead>\n",
       "    <tr style=\"text-align: right;\">\n",
       "      <th></th>\n",
       "      <th>Type</th>\n",
       "      <th>Alcohol</th>\n",
       "      <th>Malic</th>\n",
       "      <th>Ash</th>\n",
       "      <th>Alcalinity</th>\n",
       "      <th>Magnesium</th>\n",
       "      <th>Phenols</th>\n",
       "      <th>Flavanoids</th>\n",
       "      <th>Nonflavanoids</th>\n",
       "      <th>Proanthocyanins</th>\n",
       "      <th>Color</th>\n",
       "      <th>Hue</th>\n",
       "      <th>Dilution</th>\n",
       "      <th>Proline</th>\n",
       "    </tr>\n",
       "  </thead>\n",
       "  <tbody>\n",
       "  </tbody>\n",
       "</table>\n",
       "</div>"
      ],
      "text/plain": [
       "Empty DataFrame\n",
       "Columns: [Type, Alcohol, Malic, Ash, Alcalinity, Magnesium, Phenols, Flavanoids, Nonflavanoids, Proanthocyanins, Color, Hue, Dilution, Proline]\n",
       "Index: []"
      ]
     },
     "execution_count": 7,
     "metadata": {},
     "output_type": "execute_result"
    }
   ],
   "source": [
    "data[data.duplicated()] # display the duplicated row"
   ]
  },
  {
   "cell_type": "markdown",
   "id": "530b2c09",
   "metadata": {},
   "source": [
    "It means,there is no duplicate row in the dataset "
   ]
  },
  {
   "cell_type": "markdown",
   "id": "143d35a5",
   "metadata": {},
   "source": [
    "# Let's check the outliers"
   ]
  },
  {
   "cell_type": "code",
   "execution_count": 8,
   "id": "0105836a",
   "metadata": {},
   "outputs": [
    {
     "data": {
      "image/png": "[encoded data removed]",
      "text/plain": [
       "<Figure size 640x480 with 1 Axes>"
      ]
     },
     "metadata": {},
     "output_type": "display_data"
    }
   ],
   "source": [
    "import matplotlib.pyplot as plt\n",
    "plt.boxplot(data['Type'])  # plot boxplot of Type column\n",
    "plt.show()"
   ]
  },
  {
   "cell_type": "markdown",
   "id": "2d981232",
   "metadata": {},
   "source": [
    "Type column: there is no outlier in the dataset which means there is no skewness i.e. data is normally distributed"
   ]
  },
  {
   "cell_type": "code",
   "execution_count": 9,
   "id": "6b678ea7",
   "metadata": {},
   "outputs": [
    {
     "data": {
      "image/png": "[encoded data removed]",
      "text/plain": [
       "<Figure size 640x480 with 1 Axes>"
      ]
     },
     "metadata": {},
     "output_type": "display_data"
    }
   ],
   "source": [
    "plt.boxplot(data['Alcohol'])  # plot boxplot of Alcohol column\n",
    "plt.show()"
   ]
  },
  {
   "cell_type": "markdown",
   "id": "218f9b0d",
   "metadata": {},
   "source": [
    "Alcohol column: there is no outlier in the dataset which means there is no skewness i.e. data is normally distributed"
   ]
  },
  {
   "cell_type": "code",
   "execution_count": 10,
   "id": "e33d2680",
   "metadata": {},
   "outputs": [
    {
     "data": {
      "image/png": "[encoded data removed]",
      "text/plain": [
       "<Figure size 640x480 with 1 Axes>"
      ]
     },
     "metadata": {},
     "output_type": "display_data"
    }
   ],
   "source": [
    "data.boxplot(column='Malic')  # plot boxplot of Malic column\n",
    "plt.show()"
   ]
  },
  {
   "cell_type": "markdown",
   "id": "fa3ffc92",
   "metadata": {},
   "source": [
    "Malic: 3 outliers above 5.1 and must be removed from the dataset (right skewed data)"
   ]
  },
  {
   "cell_type": "markdown",
   "id": "cfd3c0e7",
   "metadata": {},
   "source": [
    "# Treat outliers"
   ]
  },
  {
   "cell_type": "code",
   "execution_count": 11,
   "id": "17379bd6",
   "metadata": {},
   "outputs": [],
   "source": [
    "data.drop(data[data['Malic']>5.1].index,axis=0,inplace=True) # remove outlier above 5.1 from Malic column"
   ]
  },
  {
   "cell_type": "code",
   "execution_count": 12,
   "id": "1300cd3a",
   "metadata": {},
   "outputs": [
    {
     "data": {
      "image/png": "[encoded data removed]",
      "text/plain": [
       "<Figure size 640x480 with 1 Axes>"
      ]
     },
     "metadata": {},
     "output_type": "display_data"
    }
   ],
   "source": [
    "plt.boxplot(data['Malic'])  # Now, there is no outlier in Malic column\n",
    "plt.show()"
   ]
  },
  {
   "cell_type": "code",
   "execution_count": 13,
   "id": "8107ccef",
   "metadata": {},
   "outputs": [
    {
     "data": {
      "image/png": "[encoded data removed]",
      "text/plain": [
       "<Figure size 640x480 with 1 Axes>"
      ]
     },
     "metadata": {},
     "output_type": "display_data"
    }
   ],
   "source": [
    "plt.boxplot(data['Ash'])  # plot boxplot of Ash column\n",
    "plt.show()"
   ]
  },
  {
   "cell_type": "markdown",
   "id": "7609f847",
   "metadata": {},
   "source": [
    "# Treat outliers"
   ]
  },
  {
   "cell_type": "code",
   "execution_count": 14,
   "id": "de5fd25a",
   "metadata": {},
   "outputs": [],
   "source": [
    "data.drop(data[data['Ash']>3.00].index,axis=0,inplace=True) # remove outlier above 3.00 from Ash column\n",
    "data.drop(data[data['Ash']<1.75].index,axis=0,inplace=True) # remove outlier below 1.75 from Ash column"
   ]
  },
  {
   "cell_type": "code",
   "execution_count": 15,
   "id": "996497f9",
   "metadata": {},
   "outputs": [
    {
     "data": {
      "image/png": "[encoded data removed]",
      "text/plain": [
       "<Figure size 640x480 with 1 Axes>"
      ]
     },
     "metadata": {},
     "output_type": "display_data"
    }
   ],
   "source": [
    "plt.boxplot(data['Ash'])  # now, there is no outliers\n",
    "plt.show()"
   ]
  },
  {
   "cell_type": "code",
   "execution_count": 16,
   "id": "61fcd457",
   "metadata": {},
   "outputs": [
    {
     "data": {
      "image/png": "[encoded data removed]",
      "text/plain": [
       "<Figure size 640x480 with 1 Axes>"
      ]
     },
     "metadata": {},
     "output_type": "display_data"
    }
   ],
   "source": [
    "plt.boxplot(data['Alcalinity'])  # plot boxplot of Alcalinity column\n",
    "plt.show()"
   ]
  },
  {
   "cell_type": "markdown",
   "id": "4267bcbe",
   "metadata": {},
   "source": [
    "# Treat outliers"
   ]
  },
  {
   "cell_type": "code",
   "execution_count": 17,
   "id": "b5b74b9d",
   "metadata": {},
   "outputs": [],
   "source": [
    "data.drop(data[data['Alcalinity']>27.5].index,axis=0,inplace=True) "
   ]
  },
  {
   "cell_type": "code",
   "execution_count": 18,
   "id": "12abd226",
   "metadata": {},
   "outputs": [
    {
     "data": {
      "image/png": "[encoded data removed]",
      "text/plain": [
       "<Figure size 640x480 with 1 Axes>"
      ]
     },
     "metadata": {},
     "output_type": "display_data"
    }
   ],
   "source": [
    "plt.boxplot(data['Alcalinity'])  # there is no outliers\n",
    "plt.show()"
   ]
  },
  {
   "cell_type": "code",
   "execution_count": 19,
   "id": "15df70f1",
   "metadata": {},
   "outputs": [
    {
     "data": {
      "image/png": "[encoded data removed]",
      "text/plain": [
       "<Figure size 640x480 with 1 Axes>"
      ]
     },
     "metadata": {},
     "output_type": "display_data"
    }
   ],
   "source": [
    "plt.boxplot(data['Magnesium'])  \n",
    "plt.show()"
   ]
  },
  {
   "cell_type": "markdown",
   "id": "222e8ce5",
   "metadata": {},
   "source": [
    "# Treat outliers"
   ]
  },
  {
   "cell_type": "code",
   "execution_count": 20,
   "id": "6a41ae1d",
   "metadata": {},
   "outputs": [],
   "source": [
    "data.drop(data[data['Magnesium']>135].index,axis=0,inplace=True) "
   ]
  },
  {
   "cell_type": "code",
   "execution_count": 21,
   "id": "6d1654f2",
   "metadata": {},
   "outputs": [
    {
     "data": {
      "image/png": "[encoded data removed]",
      "text/plain": [
       "<Figure size 640x480 with 1 Axes>"
      ]
     },
     "metadata": {},
     "output_type": "display_data"
    }
   ],
   "source": [
    "plt.boxplot(data['Magnesium'])   # there is no outliers\n",
    "plt.show()"
   ]
  },
  {
   "cell_type": "code",
   "execution_count": 22,
   "id": "2b2ecd7c",
   "metadata": {},
   "outputs": [
    {
     "data": {
      "image/png": "[encoded data removed]",
      "text/plain": [
       "<Figure size 640x480 with 1 Axes>"
      ]
     },
     "metadata": {},
     "output_type": "display_data"
    }
   ],
   "source": [
    "plt.boxplot(data['Phenols'])  # no outliers\n",
    "plt.show()"
   ]
  },
  {
   "cell_type": "code",
   "execution_count": 23,
   "id": "fe2a5338",
   "metadata": {},
   "outputs": [
    {
     "data": {
      "image/png": "[encoded data removed]",
      "text/plain": [
       "<Figure size 640x480 with 1 Axes>"
      ]
     },
     "metadata": {},
     "output_type": "display_data"
    }
   ],
   "source": [
    "plt.boxplot(data['Flavanoids']) # no outliers\n",
    "plt.show()"
   ]
  },
  {
   "cell_type": "code",
   "execution_count": 24,
   "id": "61fee1f0",
   "metadata": {},
   "outputs": [
    {
     "data": {
      "image/png": "[encoded data removed]",
      "text/plain": [
       "<Figure size 640x480 with 1 Axes>"
      ]
     },
     "metadata": {},
     "output_type": "display_data"
    }
   ],
   "source": [
    "plt.boxplot(data['Nonflavanoids']) # no outliers\n",
    "plt.show()"
   ]
  },
  {
   "cell_type": "code",
   "execution_count": 25,
   "id": "ce46d6e8",
   "metadata": {},
   "outputs": [
    {
     "data": {
      "image/png": "[encoded data removed]",
      "text/plain": [
       "<Figure size 640x480 with 1 Axes>"
      ]
     },
     "metadata": {},
     "output_type": "display_data"
    }
   ],
   "source": [
    "plt.boxplot(data['Proanthocyanins']) \n",
    "plt.show()"
   ]
  },
  {
   "cell_type": "markdown",
   "id": "e053ebfe",
   "metadata": {},
   "source": [
    "# Treat outliers"
   ]
  },
  {
   "cell_type": "code",
   "execution_count": 26,
   "id": "652fe64d",
   "metadata": {},
   "outputs": [],
   "source": [
    "data.drop(data[data['Proanthocyanins']>2.7].index,axis=0,inplace=True) "
   ]
  },
  {
   "cell_type": "code",
   "execution_count": 27,
   "id": "8863c845",
   "metadata": {},
   "outputs": [
    {
     "data": {
      "image/png": "[encoded data removed]",
      "text/plain": [
       "<Figure size 640x480 with 1 Axes>"
      ]
     },
     "metadata": {},
     "output_type": "display_data"
    }
   ],
   "source": [
    "plt.boxplot(data['Proanthocyanins'])  # no outliers\n",
    "plt.show()"
   ]
  },
  {
   "cell_type": "code",
   "execution_count": 28,
   "id": "b87bcabb",
   "metadata": {},
   "outputs": [
    {
     "data": {
      "image/png": "[encoded data removed]",
      "text/plain": [
       "<Figure size 640x480 with 1 Axes>"
      ]
     },
     "metadata": {},
     "output_type": "display_data"
    }
   ],
   "source": [
    "plt.boxplot(data['Color'])  \n",
    "plt.show()"
   ]
  },
  {
   "cell_type": "markdown",
   "id": "8271447f",
   "metadata": {},
   "source": [
    "# Treat outliers"
   ]
  },
  {
   "cell_type": "code",
   "execution_count": 29,
   "id": "19206062",
   "metadata": {},
   "outputs": [],
   "source": [
    "data.drop(data[data['Color']>10].index,axis=0,inplace=True) "
   ]
  },
  {
   "cell_type": "code",
   "execution_count": 30,
   "id": "059f7c34",
   "metadata": {},
   "outputs": [
    {
     "data": {
      "image/png": "[encoded data removed]",
      "text/plain": [
       "<Figure size 640x480 with 1 Axes>"
      ]
     },
     "metadata": {},
     "output_type": "display_data"
    }
   ],
   "source": [
    "plt.boxplot(data['Color'])  # no outliers\n",
    "plt.show()"
   ]
  },
  {
   "cell_type": "code",
   "execution_count": 31,
   "id": "10fb8626",
   "metadata": {},
   "outputs": [
    {
     "data": {
      "image/png": "[encoded data removed]",
      "text/plain": [
       "<Figure size 640x480 with 1 Axes>"
      ]
     },
     "metadata": {},
     "output_type": "display_data"
    }
   ],
   "source": [
    "plt.boxplot(data['Hue'])  \n",
    "plt.show()"
   ]
  },
  {
   "cell_type": "markdown",
   "id": "b076337b",
   "metadata": {},
   "source": [
    "# Treat outliers"
   ]
  },
  {
   "cell_type": "code",
   "execution_count": 32,
   "id": "1320f83a",
   "metadata": {},
   "outputs": [],
   "source": [
    "data.drop(data[data['Hue']>1.6].index,axis=0,inplace=True) "
   ]
  },
  {
   "cell_type": "code",
   "execution_count": 33,
   "id": "e1c3bf84",
   "metadata": {},
   "outputs": [
    {
     "data": {
      "image/png": "[encoded data removed]",
      "text/plain": [
       "<Figure size 640x480 with 1 Axes>"
      ]
     },
     "metadata": {},
     "output_type": "display_data"
    }
   ],
   "source": [
    "plt.boxplot(data['Hue'])  # no outliers\n",
    "plt.show()"
   ]
  },
  {
   "cell_type": "code",
   "execution_count": 34,
   "id": "242afb3d",
   "metadata": {},
   "outputs": [
    {
     "data": {
      "image/png": "[encoded data removed]",
      "text/plain": [
       "<Figure size 640x480 with 1 Axes>"
      ]
     },
     "metadata": {},
     "output_type": "display_data"
    }
   ],
   "source": [
    "plt.boxplot(data['Dilution'])   # no outliers\n",
    "plt.show()"
   ]
  },
  {
   "cell_type": "code",
   "execution_count": 35,
   "id": "b18735e1",
   "metadata": {},
   "outputs": [
    {
     "data": {
      "image/png": "[encoded data removed]",
      "text/plain": [
       "<Figure size 640x480 with 1 Axes>"
      ]
     },
     "metadata": {},
     "output_type": "display_data"
    }
   ],
   "source": [
    "plt.boxplot(data['Proline'])   # no outliers\n",
    "plt.show()"
   ]
  },
  {
   "cell_type": "code",
   "execution_count": 36,
   "id": "ac4cd4bf",
   "metadata": {},
   "outputs": [],
   "source": [
    "import seaborn as sns"
   ]
  },
  {
   "cell_type": "code",
   "execution_count": 37,
   "id": "f1667382",
   "metadata": {},
   "outputs": [
    {
     "data": {
      "text/plain": [
       "<AxesSubplot:>"
      ]
     },
     "execution_count": 37,
     "metadata": {},
     "output_type": "execute_result"
    },
    {
     "data": {
      "image/png": "[encoded data removed]",
      "text/plain": [
       "<Figure size 1000x1000 with 2 Axes>"
      ]
     },
     "metadata": {},
     "output_type": "display_data"
    }
   ],
   "source": [
    "fig,ax = plt.subplots(figsize=(10,10))\n",
    "sns.heatmap(data.corr(), annot = True)  #correlation matrix representing the correlation between different variables"
   ]
  },
  {
   "cell_type": "markdown",
   "id": "a5e12a44",
   "metadata": {},
   "source": [
    "Alcalinity is the most contributing factor in deciding the type of a wine because it has the maximum correlation value which is 0.58. Nonflavanoids is the 2nd most contributing factor in deciding the type of a wine. "
   ]
  },
  {
   "cell_type": "markdown",
   "id": "6256a7a3",
   "metadata": {},
   "source": [
    "# Task 2: Dimensionality Reduction with PCA:"
   ]
  },
  {
   "cell_type": "code",
   "execution_count": 38,
   "id": "fdce2c6c",
   "metadata": {},
   "outputs": [
    {
     "data": {
      "text/html": [
       "<div>\n",
       "<style scoped>\n",
       "    .dataframe tbody tr th:only-of-type {\n",
       "        vertical-align: middle;\n",
       "    }\n",
       "\n",
       "    .dataframe tbody tr th {\n",
       "        vertical-align: top;\n",
       "    }\n",
       "\n",
       "    .dataframe thead th {\n",
       "        text-align: right;\n",
       "    }\n",
       "</style>\n",
       "<table border=\"1\" class=\"dataframe\">\n",
       "  <thead>\n",
       "    <tr style=\"text-align: right;\">\n",
       "      <th></th>\n",
       "      <th>Type</th>\n",
       "      <th>Alcohol</th>\n",
       "      <th>Malic</th>\n",
       "      <th>Ash</th>\n",
       "      <th>Alcalinity</th>\n",
       "      <th>Magnesium</th>\n",
       "      <th>Phenols</th>\n",
       "      <th>Flavanoids</th>\n",
       "      <th>Nonflavanoids</th>\n",
       "      <th>Proanthocyanins</th>\n",
       "      <th>Color</th>\n",
       "      <th>Hue</th>\n",
       "      <th>Dilution</th>\n",
       "      <th>Proline</th>\n",
       "    </tr>\n",
       "  </thead>\n",
       "  <tbody>\n",
       "    <tr>\n",
       "      <th>0</th>\n",
       "      <td>1</td>\n",
       "      <td>14.23</td>\n",
       "      <td>1.71</td>\n",
       "      <td>2.43</td>\n",
       "      <td>15.6</td>\n",
       "      <td>127</td>\n",
       "      <td>2.80</td>\n",
       "      <td>3.06</td>\n",
       "      <td>0.28</td>\n",
       "      <td>2.29</td>\n",
       "      <td>5.64</td>\n",
       "      <td>1.04</td>\n",
       "      <td>3.92</td>\n",
       "      <td>1065</td>\n",
       "    </tr>\n",
       "    <tr>\n",
       "      <th>1</th>\n",
       "      <td>1</td>\n",
       "      <td>13.20</td>\n",
       "      <td>1.78</td>\n",
       "      <td>2.14</td>\n",
       "      <td>11.2</td>\n",
       "      <td>100</td>\n",
       "      <td>2.65</td>\n",
       "      <td>2.76</td>\n",
       "      <td>0.26</td>\n",
       "      <td>1.28</td>\n",
       "      <td>4.38</td>\n",
       "      <td>1.05</td>\n",
       "      <td>3.40</td>\n",
       "      <td>1050</td>\n",
       "    </tr>\n",
       "    <tr>\n",
       "      <th>3</th>\n",
       "      <td>1</td>\n",
       "      <td>14.37</td>\n",
       "      <td>1.95</td>\n",
       "      <td>2.50</td>\n",
       "      <td>16.8</td>\n",
       "      <td>113</td>\n",
       "      <td>3.85</td>\n",
       "      <td>3.49</td>\n",
       "      <td>0.24</td>\n",
       "      <td>2.18</td>\n",
       "      <td>7.80</td>\n",
       "      <td>0.86</td>\n",
       "      <td>3.45</td>\n",
       "      <td>1480</td>\n",
       "    </tr>\n",
       "    <tr>\n",
       "      <th>4</th>\n",
       "      <td>1</td>\n",
       "      <td>13.24</td>\n",
       "      <td>2.59</td>\n",
       "      <td>2.87</td>\n",
       "      <td>21.0</td>\n",
       "      <td>118</td>\n",
       "      <td>2.80</td>\n",
       "      <td>2.69</td>\n",
       "      <td>0.39</td>\n",
       "      <td>1.82</td>\n",
       "      <td>4.32</td>\n",
       "      <td>1.04</td>\n",
       "      <td>2.93</td>\n",
       "      <td>735</td>\n",
       "    </tr>\n",
       "    <tr>\n",
       "      <th>5</th>\n",
       "      <td>1</td>\n",
       "      <td>14.20</td>\n",
       "      <td>1.76</td>\n",
       "      <td>2.45</td>\n",
       "      <td>15.2</td>\n",
       "      <td>112</td>\n",
       "      <td>3.27</td>\n",
       "      <td>3.39</td>\n",
       "      <td>0.34</td>\n",
       "      <td>1.97</td>\n",
       "      <td>6.75</td>\n",
       "      <td>1.05</td>\n",
       "      <td>2.85</td>\n",
       "      <td>1450</td>\n",
       "    </tr>\n",
       "  </tbody>\n",
       "</table>\n",
       "</div>"
      ],
      "text/plain": [
       "   Type  Alcohol  Malic   Ash  Alcalinity  Magnesium  Phenols  Flavanoids  \\\n",
       "0     1    14.23   1.71  2.43        15.6        127     2.80        3.06   \n",
       "1     1    13.20   1.78  2.14        11.2        100     2.65        2.76   \n",
       "3     1    14.37   1.95  2.50        16.8        113     3.85        3.49   \n",
       "4     1    13.24   2.59  2.87        21.0        118     2.80        2.69   \n",
       "5     1    14.20   1.76  2.45        15.2        112     3.27        3.39   \n",
       "\n",
       "   Nonflavanoids  Proanthocyanins  Color   Hue  Dilution  Proline  \n",
       "0           0.28             2.29   5.64  1.04      3.92     1065  \n",
       "1           0.26             1.28   4.38  1.05      3.40     1050  \n",
       "3           0.24             2.18   7.80  0.86      3.45     1480  \n",
       "4           0.39             1.82   4.32  1.04      2.93      735  \n",
       "5           0.34             1.97   6.75  1.05      2.85     1450  "
      ]
     },
     "execution_count": 38,
     "metadata": {},
     "output_type": "execute_result"
    }
   ],
   "source": [
    "data.head()"
   ]
  },
  {
   "cell_type": "code",
   "execution_count": 39,
   "id": "5cfc690f",
   "metadata": {},
   "outputs": [],
   "source": [
    "X = data.iloc[:,1:]"
   ]
  },
  {
   "cell_type": "code",
   "execution_count": 40,
   "id": "7765023d",
   "metadata": {},
   "outputs": [
    {
     "data": {
      "text/html": [
       "<div>\n",
       "<style scoped>\n",
       "    .dataframe tbody tr th:only-of-type {\n",
       "        vertical-align: middle;\n",
       "    }\n",
       "\n",
       "    .dataframe tbody tr th {\n",
       "        vertical-align: top;\n",
       "    }\n",
       "\n",
       "    .dataframe thead th {\n",
       "        text-align: right;\n",
       "    }\n",
       "</style>\n",
       "<table border=\"1\" class=\"dataframe\">\n",
       "  <thead>\n",
       "    <tr style=\"text-align: right;\">\n",
       "      <th></th>\n",
       "      <th>Alcohol</th>\n",
       "      <th>Malic</th>\n",
       "      <th>Ash</th>\n",
       "      <th>Alcalinity</th>\n",
       "      <th>Magnesium</th>\n",
       "      <th>Phenols</th>\n",
       "      <th>Flavanoids</th>\n",
       "      <th>Nonflavanoids</th>\n",
       "      <th>Proanthocyanins</th>\n",
       "      <th>Color</th>\n",
       "      <th>Hue</th>\n",
       "      <th>Dilution</th>\n",
       "      <th>Proline</th>\n",
       "    </tr>\n",
       "  </thead>\n",
       "  <tbody>\n",
       "    <tr>\n",
       "      <th>0</th>\n",
       "      <td>14.23</td>\n",
       "      <td>1.71</td>\n",
       "      <td>2.43</td>\n",
       "      <td>15.6</td>\n",
       "      <td>127</td>\n",
       "      <td>2.80</td>\n",
       "      <td>3.06</td>\n",
       "      <td>0.28</td>\n",
       "      <td>2.29</td>\n",
       "      <td>5.640000</td>\n",
       "      <td>1.04</td>\n",
       "      <td>3.92</td>\n",
       "      <td>1065</td>\n",
       "    </tr>\n",
       "    <tr>\n",
       "      <th>1</th>\n",
       "      <td>13.20</td>\n",
       "      <td>1.78</td>\n",
       "      <td>2.14</td>\n",
       "      <td>11.2</td>\n",
       "      <td>100</td>\n",
       "      <td>2.65</td>\n",
       "      <td>2.76</td>\n",
       "      <td>0.26</td>\n",
       "      <td>1.28</td>\n",
       "      <td>4.380000</td>\n",
       "      <td>1.05</td>\n",
       "      <td>3.40</td>\n",
       "      <td>1050</td>\n",
       "    </tr>\n",
       "    <tr>\n",
       "      <th>3</th>\n",
       "      <td>14.37</td>\n",
       "      <td>1.95</td>\n",
       "      <td>2.50</td>\n",
       "      <td>16.8</td>\n",
       "      <td>113</td>\n",
       "      <td>3.85</td>\n",
       "      <td>3.49</td>\n",
       "      <td>0.24</td>\n",
       "      <td>2.18</td>\n",
       "      <td>7.800000</td>\n",
       "      <td>0.86</td>\n",
       "      <td>3.45</td>\n",
       "      <td>1480</td>\n",
       "    </tr>\n",
       "    <tr>\n",
       "      <th>4</th>\n",
       "      <td>13.24</td>\n",
       "      <td>2.59</td>\n",
       "      <td>2.87</td>\n",
       "      <td>21.0</td>\n",
       "      <td>118</td>\n",
       "      <td>2.80</td>\n",
       "      <td>2.69</td>\n",
       "      <td>0.39</td>\n",
       "      <td>1.82</td>\n",
       "      <td>4.320000</td>\n",
       "      <td>1.04</td>\n",
       "      <td>2.93</td>\n",
       "      <td>735</td>\n",
       "    </tr>\n",
       "    <tr>\n",
       "      <th>5</th>\n",
       "      <td>14.20</td>\n",
       "      <td>1.76</td>\n",
       "      <td>2.45</td>\n",
       "      <td>15.2</td>\n",
       "      <td>112</td>\n",
       "      <td>3.27</td>\n",
       "      <td>3.39</td>\n",
       "      <td>0.34</td>\n",
       "      <td>1.97</td>\n",
       "      <td>6.750000</td>\n",
       "      <td>1.05</td>\n",
       "      <td>2.85</td>\n",
       "      <td>1450</td>\n",
       "    </tr>\n",
       "    <tr>\n",
       "      <th>...</th>\n",
       "      <td>...</td>\n",
       "      <td>...</td>\n",
       "      <td>...</td>\n",
       "      <td>...</td>\n",
       "      <td>...</td>\n",
       "      <td>...</td>\n",
       "      <td>...</td>\n",
       "      <td>...</td>\n",
       "      <td>...</td>\n",
       "      <td>...</td>\n",
       "      <td>...</td>\n",
       "      <td>...</td>\n",
       "      <td>...</td>\n",
       "    </tr>\n",
       "    <tr>\n",
       "      <th>171</th>\n",
       "      <td>12.77</td>\n",
       "      <td>2.39</td>\n",
       "      <td>2.28</td>\n",
       "      <td>19.5</td>\n",
       "      <td>86</td>\n",
       "      <td>1.39</td>\n",
       "      <td>0.51</td>\n",
       "      <td>0.48</td>\n",
       "      <td>0.64</td>\n",
       "      <td>9.899999</td>\n",
       "      <td>0.57</td>\n",
       "      <td>1.63</td>\n",
       "      <td>470</td>\n",
       "    </tr>\n",
       "    <tr>\n",
       "      <th>172</th>\n",
       "      <td>14.16</td>\n",
       "      <td>2.51</td>\n",
       "      <td>2.48</td>\n",
       "      <td>20.0</td>\n",
       "      <td>91</td>\n",
       "      <td>1.68</td>\n",
       "      <td>0.70</td>\n",
       "      <td>0.44</td>\n",
       "      <td>1.24</td>\n",
       "      <td>9.700000</td>\n",
       "      <td>0.62</td>\n",
       "      <td>1.71</td>\n",
       "      <td>660</td>\n",
       "    </tr>\n",
       "    <tr>\n",
       "      <th>174</th>\n",
       "      <td>13.40</td>\n",
       "      <td>3.91</td>\n",
       "      <td>2.48</td>\n",
       "      <td>23.0</td>\n",
       "      <td>102</td>\n",
       "      <td>1.80</td>\n",
       "      <td>0.75</td>\n",
       "      <td>0.43</td>\n",
       "      <td>1.41</td>\n",
       "      <td>7.300000</td>\n",
       "      <td>0.70</td>\n",
       "      <td>1.56</td>\n",
       "      <td>750</td>\n",
       "    </tr>\n",
       "    <tr>\n",
       "      <th>176</th>\n",
       "      <td>13.17</td>\n",
       "      <td>2.59</td>\n",
       "      <td>2.37</td>\n",
       "      <td>20.0</td>\n",
       "      <td>120</td>\n",
       "      <td>1.65</td>\n",
       "      <td>0.68</td>\n",
       "      <td>0.53</td>\n",
       "      <td>1.46</td>\n",
       "      <td>9.300000</td>\n",
       "      <td>0.60</td>\n",
       "      <td>1.62</td>\n",
       "      <td>840</td>\n",
       "    </tr>\n",
       "    <tr>\n",
       "      <th>177</th>\n",
       "      <td>14.13</td>\n",
       "      <td>4.10</td>\n",
       "      <td>2.74</td>\n",
       "      <td>24.5</td>\n",
       "      <td>96</td>\n",
       "      <td>2.05</td>\n",
       "      <td>0.76</td>\n",
       "      <td>0.56</td>\n",
       "      <td>1.35</td>\n",
       "      <td>9.200000</td>\n",
       "      <td>0.61</td>\n",
       "      <td>1.60</td>\n",
       "      <td>560</td>\n",
       "    </tr>\n",
       "  </tbody>\n",
       "</table>\n",
       "<p>148 rows × 13 columns</p>\n",
       "</div>"
      ],
      "text/plain": [
       "     Alcohol  Malic   Ash  Alcalinity  Magnesium  Phenols  Flavanoids  \\\n",
       "0      14.23   1.71  2.43        15.6        127     2.80        3.06   \n",
       "1      13.20   1.78  2.14        11.2        100     2.65        2.76   \n",
       "3      14.37   1.95  2.50        16.8        113     3.85        3.49   \n",
       "4      13.24   2.59  2.87        21.0        118     2.80        2.69   \n",
       "5      14.20   1.76  2.45        15.2        112     3.27        3.39   \n",
       "..       ...    ...   ...         ...        ...      ...         ...   \n",
       "171    12.77   2.39  2.28        19.5         86     1.39        0.51   \n",
       "172    14.16   2.51  2.48        20.0         91     1.68        0.70   \n",
       "174    13.40   3.91  2.48        23.0        102     1.80        0.75   \n",
       "176    13.17   2.59  2.37        20.0        120     1.65        0.68   \n",
       "177    14.13   4.10  2.74        24.5         96     2.05        0.76   \n",
       "\n",
       "     Nonflavanoids  Proanthocyanins     Color   Hue  Dilution  Proline  \n",
       "0             0.28             2.29  5.640000  1.04      3.92     1065  \n",
       "1             0.26             1.28  4.380000  1.05      3.40     1050  \n",
       "3             0.24             2.18  7.800000  0.86      3.45     1480  \n",
       "4             0.39             1.82  4.320000  1.04      2.93      735  \n",
       "5             0.34             1.97  6.750000  1.05      2.85     1450  \n",
       "..             ...              ...       ...   ...       ...      ...  \n",
       "171           0.48             0.64  9.899999  0.57      1.63      470  \n",
       "172           0.44             1.24  9.700000  0.62      1.71      660  \n",
       "174           0.43             1.41  7.300000  0.70      1.56      750  \n",
       "176           0.53             1.46  9.300000  0.60      1.62      840  \n",
       "177           0.56             1.35  9.200000  0.61      1.60      560  \n",
       "\n",
       "[148 rows x 13 columns]"
      ]
     },
     "execution_count": 40,
     "metadata": {},
     "output_type": "execute_result"
    }
   ],
   "source": [
    "X"
   ]
  },
  {
   "cell_type": "code",
   "execution_count": 41,
   "id": "69caa59e",
   "metadata": {},
   "outputs": [
    {
     "data": {
      "text/plain": [
       "(148, 13)"
      ]
     },
     "execution_count": 41,
     "metadata": {},
     "output_type": "execute_result"
    }
   ],
   "source": [
    "X.shape  # shape of input features "
   ]
  },
  {
   "cell_type": "code",
   "execution_count": 42,
   "id": "67e2f5c8",
   "metadata": {},
   "outputs": [],
   "source": [
    "Y = data[['Type']]"
   ]
  },
  {
   "cell_type": "code",
   "execution_count": 43,
   "id": "0789d91a",
   "metadata": {},
   "outputs": [
    {
     "data": {
      "text/html": [
       "<div>\n",
       "<style scoped>\n",
       "    .dataframe tbody tr th:only-of-type {\n",
       "        vertical-align: middle;\n",
       "    }\n",
       "\n",
       "    .dataframe tbody tr th {\n",
       "        vertical-align: top;\n",
       "    }\n",
       "\n",
       "    .dataframe thead th {\n",
       "        text-align: right;\n",
       "    }\n",
       "</style>\n",
       "<table border=\"1\" class=\"dataframe\">\n",
       "  <thead>\n",
       "    <tr style=\"text-align: right;\">\n",
       "      <th></th>\n",
       "      <th>Type</th>\n",
       "    </tr>\n",
       "  </thead>\n",
       "  <tbody>\n",
       "    <tr>\n",
       "      <th>0</th>\n",
       "      <td>1</td>\n",
       "    </tr>\n",
       "    <tr>\n",
       "      <th>1</th>\n",
       "      <td>1</td>\n",
       "    </tr>\n",
       "    <tr>\n",
       "      <th>3</th>\n",
       "      <td>1</td>\n",
       "    </tr>\n",
       "    <tr>\n",
       "      <th>4</th>\n",
       "      <td>1</td>\n",
       "    </tr>\n",
       "    <tr>\n",
       "      <th>5</th>\n",
       "      <td>1</td>\n",
       "    </tr>\n",
       "    <tr>\n",
       "      <th>...</th>\n",
       "      <td>...</td>\n",
       "    </tr>\n",
       "    <tr>\n",
       "      <th>171</th>\n",
       "      <td>3</td>\n",
       "    </tr>\n",
       "    <tr>\n",
       "      <th>172</th>\n",
       "      <td>3</td>\n",
       "    </tr>\n",
       "    <tr>\n",
       "      <th>174</th>\n",
       "      <td>3</td>\n",
       "    </tr>\n",
       "    <tr>\n",
       "      <th>176</th>\n",
       "      <td>3</td>\n",
       "    </tr>\n",
       "    <tr>\n",
       "      <th>177</th>\n",
       "      <td>3</td>\n",
       "    </tr>\n",
       "  </tbody>\n",
       "</table>\n",
       "<p>148 rows × 1 columns</p>\n",
       "</div>"
      ],
      "text/plain": [
       "     Type\n",
       "0       1\n",
       "1       1\n",
       "3       1\n",
       "4       1\n",
       "5       1\n",
       "..    ...\n",
       "171     3\n",
       "172     3\n",
       "174     3\n",
       "176     3\n",
       "177     3\n",
       "\n",
       "[148 rows x 1 columns]"
      ]
     },
     "execution_count": 43,
     "metadata": {},
     "output_type": "execute_result"
    }
   ],
   "source": [
    "Y"
   ]
  },
  {
   "cell_type": "markdown",
   "id": "03d535da",
   "metadata": {},
   "source": [
    "# standardise the data of X"
   ]
  },
  {
   "cell_type": "markdown",
   "id": "fb43e012",
   "metadata": {},
   "source": [
    "Now we will apply the first step which is to standardize the data and for that, we will have to first calculate the mean and standard deviation of each feature in the feature space."
   ]
  },
  {
   "cell_type": "code",
   "execution_count": 44,
   "id": "def14ced",
   "metadata": {},
   "outputs": [],
   "source": [
    "# Mean\n",
    "X_mean = X.mean()"
   ]
  },
  {
   "cell_type": "code",
   "execution_count": 45,
   "id": "687209de",
   "metadata": {},
   "outputs": [
    {
     "data": {
      "text/plain": [
       "Alcohol             13.035743\n",
       "Malic                2.270946\n",
       "Ash                  2.379324\n",
       "Alcalinity          19.422297\n",
       "Magnesium           98.972973\n",
       "Phenols              2.279392\n",
       "Flavanoids           2.020270\n",
       "Nonflavanoids        0.358108\n",
       "Proanthocyanins      1.494257\n",
       "Color                4.894054\n",
       "Hue                  0.956730\n",
       "Dilution             2.635405\n",
       "Proline            755.912162\n",
       "dtype: float64"
      ]
     },
     "execution_count": 45,
     "metadata": {},
     "output_type": "execute_result"
    }
   ],
   "source": [
    "X_mean"
   ]
  },
  {
   "cell_type": "code",
   "execution_count": 46,
   "id": "bbcf553b",
   "metadata": {},
   "outputs": [],
   "source": [
    "# Standard deviation\n",
    "X_std = X.std()"
   ]
  },
  {
   "cell_type": "code",
   "execution_count": 47,
   "id": "624cd2fc",
   "metadata": {},
   "outputs": [
    {
     "data": {
      "text/plain": [
       "Alcohol              0.800080\n",
       "Malic                1.016779\n",
       "Ash                  0.229117\n",
       "Alcalinity           2.908136\n",
       "Magnesium           12.440304\n",
       "Phenols              0.633109\n",
       "Flavanoids           0.964583\n",
       "Nonflavanoids        0.120319\n",
       "Proanthocyanins      0.468699\n",
       "Color                2.012086\n",
       "Hue                  0.210591\n",
       "Dilution             0.709170\n",
       "Proline            321.369030\n",
       "dtype: float64"
      ]
     },
     "execution_count": 47,
     "metadata": {},
     "output_type": "execute_result"
    }
   ],
   "source": [
    "X_std"
   ]
  },
  {
   "cell_type": "code",
   "execution_count": 48,
   "id": "1665eafe",
   "metadata": {},
   "outputs": [],
   "source": [
    "# Standardization\n",
    "Z = (X - X_mean) / X_std"
   ]
  },
  {
   "cell_type": "code",
   "execution_count": 49,
   "id": "ac18d2f5",
   "metadata": {},
   "outputs": [
    {
     "data": {
      "text/html": [
       "<div>\n",
       "<style scoped>\n",
       "    .dataframe tbody tr th:only-of-type {\n",
       "        vertical-align: middle;\n",
       "    }\n",
       "\n",
       "    .dataframe tbody tr th {\n",
       "        vertical-align: top;\n",
       "    }\n",
       "\n",
       "    .dataframe thead th {\n",
       "        text-align: right;\n",
       "    }\n",
       "</style>\n",
       "<table border=\"1\" class=\"dataframe\">\n",
       "  <thead>\n",
       "    <tr style=\"text-align: right;\">\n",
       "      <th></th>\n",
       "      <th>Alcohol</th>\n",
       "      <th>Malic</th>\n",
       "      <th>Ash</th>\n",
       "      <th>Alcalinity</th>\n",
       "      <th>Magnesium</th>\n",
       "      <th>Phenols</th>\n",
       "      <th>Flavanoids</th>\n",
       "      <th>Nonflavanoids</th>\n",
       "      <th>Proanthocyanins</th>\n",
       "      <th>Color</th>\n",
       "      <th>Hue</th>\n",
       "      <th>Dilution</th>\n",
       "      <th>Proline</th>\n",
       "    </tr>\n",
       "  </thead>\n",
       "  <tbody>\n",
       "    <tr>\n",
       "      <th>0</th>\n",
       "      <td>1.492672</td>\n",
       "      <td>-0.551689</td>\n",
       "      <td>0.221178</td>\n",
       "      <td>-1.314346</td>\n",
       "      <td>2.252921</td>\n",
       "      <td>0.822304</td>\n",
       "      <td>1.077906</td>\n",
       "      <td>-0.649175</td>\n",
       "      <td>1.697769</td>\n",
       "      <td>0.370733</td>\n",
       "      <td>0.395412</td>\n",
       "      <td>1.811407</td>\n",
       "      <td>0.961785</td>\n",
       "    </tr>\n",
       "    <tr>\n",
       "      <th>1</th>\n",
       "      <td>0.205300</td>\n",
       "      <td>-0.482845</td>\n",
       "      <td>-1.044549</td>\n",
       "      <td>-2.827343</td>\n",
       "      <td>0.082556</td>\n",
       "      <td>0.585378</td>\n",
       "      <td>0.766891</td>\n",
       "      <td>-0.815400</td>\n",
       "      <td>-0.457131</td>\n",
       "      <td>-0.255483</td>\n",
       "      <td>0.442898</td>\n",
       "      <td>1.078155</td>\n",
       "      <td>0.915109</td>\n",
       "    </tr>\n",
       "    <tr>\n",
       "      <th>3</th>\n",
       "      <td>1.667654</td>\n",
       "      <td>-0.315650</td>\n",
       "      <td>0.526698</td>\n",
       "      <td>-0.901711</td>\n",
       "      <td>1.127547</td>\n",
       "      <td>2.480785</td>\n",
       "      <td>1.523694</td>\n",
       "      <td>-0.981625</td>\n",
       "      <td>1.463077</td>\n",
       "      <td>1.444246</td>\n",
       "      <td>-0.459325</td>\n",
       "      <td>1.148660</td>\n",
       "      <td>2.253135</td>\n",
       "    </tr>\n",
       "    <tr>\n",
       "      <th>4</th>\n",
       "      <td>0.255295</td>\n",
       "      <td>0.313789</td>\n",
       "      <td>2.141591</td>\n",
       "      <td>0.542513</td>\n",
       "      <td>1.529466</td>\n",
       "      <td>0.822304</td>\n",
       "      <td>0.694320</td>\n",
       "      <td>0.265061</td>\n",
       "      <td>0.694994</td>\n",
       "      <td>-0.285303</td>\n",
       "      <td>0.395412</td>\n",
       "      <td>0.415408</td>\n",
       "      <td>-0.065072</td>\n",
       "    </tr>\n",
       "    <tr>\n",
       "      <th>5</th>\n",
       "      <td>1.455175</td>\n",
       "      <td>-0.502514</td>\n",
       "      <td>0.308469</td>\n",
       "      <td>-1.451891</td>\n",
       "      <td>1.047163</td>\n",
       "      <td>1.564671</td>\n",
       "      <td>1.420023</td>\n",
       "      <td>-0.150501</td>\n",
       "      <td>1.015029</td>\n",
       "      <td>0.922399</td>\n",
       "      <td>0.442898</td>\n",
       "      <td>0.302600</td>\n",
       "      <td>2.159784</td>\n",
       "    </tr>\n",
       "    <tr>\n",
       "      <th>...</th>\n",
       "      <td>...</td>\n",
       "      <td>...</td>\n",
       "      <td>...</td>\n",
       "      <td>...</td>\n",
       "      <td>...</td>\n",
       "      <td>...</td>\n",
       "      <td>...</td>\n",
       "      <td>...</td>\n",
       "      <td>...</td>\n",
       "      <td>...</td>\n",
       "      <td>...</td>\n",
       "      <td>...</td>\n",
       "      <td>...</td>\n",
       "    </tr>\n",
       "    <tr>\n",
       "      <th>171</th>\n",
       "      <td>-0.332146</td>\n",
       "      <td>0.117089</td>\n",
       "      <td>-0.433508</td>\n",
       "      <td>0.026719</td>\n",
       "      <td>-1.042818</td>\n",
       "      <td>-1.404800</td>\n",
       "      <td>-1.565724</td>\n",
       "      <td>1.013072</td>\n",
       "      <td>-1.822612</td>\n",
       "      <td>2.487938</td>\n",
       "      <td>-1.836403</td>\n",
       "      <td>-1.417722</td>\n",
       "      <td>-0.889669</td>\n",
       "    </tr>\n",
       "    <tr>\n",
       "      <th>172</th>\n",
       "      <td>1.405180</td>\n",
       "      <td>0.235109</td>\n",
       "      <td>0.439407</td>\n",
       "      <td>0.198651</td>\n",
       "      <td>-0.640899</td>\n",
       "      <td>-0.946743</td>\n",
       "      <td>-1.368747</td>\n",
       "      <td>0.680623</td>\n",
       "      <td>-0.542473</td>\n",
       "      <td>2.388540</td>\n",
       "      <td>-1.598976</td>\n",
       "      <td>-1.304914</td>\n",
       "      <td>-0.298449</td>\n",
       "    </tr>\n",
       "    <tr>\n",
       "      <th>174</th>\n",
       "      <td>0.455275</td>\n",
       "      <td>1.612007</td>\n",
       "      <td>0.439407</td>\n",
       "      <td>1.230239</td>\n",
       "      <td>0.243324</td>\n",
       "      <td>-0.757202</td>\n",
       "      <td>-1.316911</td>\n",
       "      <td>0.597511</td>\n",
       "      <td>-0.179767</td>\n",
       "      <td>1.195747</td>\n",
       "      <td>-1.219092</td>\n",
       "      <td>-1.516429</td>\n",
       "      <td>-0.018397</td>\n",
       "    </tr>\n",
       "    <tr>\n",
       "      <th>176</th>\n",
       "      <td>0.167804</td>\n",
       "      <td>0.313789</td>\n",
       "      <td>-0.040697</td>\n",
       "      <td>0.198651</td>\n",
       "      <td>1.690234</td>\n",
       "      <td>-0.994128</td>\n",
       "      <td>-1.389482</td>\n",
       "      <td>1.428634</td>\n",
       "      <td>-0.073089</td>\n",
       "      <td>2.189741</td>\n",
       "      <td>-1.693947</td>\n",
       "      <td>-1.431823</td>\n",
       "      <td>0.261655</td>\n",
       "    </tr>\n",
       "    <tr>\n",
       "      <th>177</th>\n",
       "      <td>1.367684</td>\n",
       "      <td>1.798872</td>\n",
       "      <td>1.574196</td>\n",
       "      <td>1.746033</td>\n",
       "      <td>-0.238979</td>\n",
       "      <td>-0.362326</td>\n",
       "      <td>-1.306544</td>\n",
       "      <td>1.677971</td>\n",
       "      <td>-0.307781</td>\n",
       "      <td>2.140041</td>\n",
       "      <td>-1.646461</td>\n",
       "      <td>-1.460025</td>\n",
       "      <td>-0.609617</td>\n",
       "    </tr>\n",
       "  </tbody>\n",
       "</table>\n",
       "<p>148 rows × 13 columns</p>\n",
       "</div>"
      ],
      "text/plain": [
       "      Alcohol     Malic       Ash  Alcalinity  Magnesium   Phenols  \\\n",
       "0    1.492672 -0.551689  0.221178   -1.314346   2.252921  0.822304   \n",
       "1    0.205300 -0.482845 -1.044549   -2.827343   0.082556  0.585378   \n",
       "3    1.667654 -0.315650  0.526698   -0.901711   1.127547  2.480785   \n",
       "4    0.255295  0.313789  2.141591    0.542513   1.529466  0.822304   \n",
       "5    1.455175 -0.502514  0.308469   -1.451891   1.047163  1.564671   \n",
       "..        ...       ...       ...         ...        ...       ...   \n",
       "171 -0.332146  0.117089 -0.433508    0.026719  -1.042818 -1.404800   \n",
       "172  1.405180  0.235109  0.439407    0.198651  -0.640899 -0.946743   \n",
       "174  0.455275  1.612007  0.439407    1.230239   0.243324 -0.757202   \n",
       "176  0.167804  0.313789 -0.040697    0.198651   1.690234 -0.994128   \n",
       "177  1.367684  1.798872  1.574196    1.746033  -0.238979 -0.362326   \n",
       "\n",
       "     Flavanoids  Nonflavanoids  Proanthocyanins     Color       Hue  Dilution  \\\n",
       "0      1.077906      -0.649175         1.697769  0.370733  0.395412  1.811407   \n",
       "1      0.766891      -0.815400        -0.457131 -0.255483  0.442898  1.078155   \n",
       "3      1.523694      -0.981625         1.463077  1.444246 -0.459325  1.148660   \n",
       "4      0.694320       0.265061         0.694994 -0.285303  0.395412  0.415408   \n",
       "5      1.420023      -0.150501         1.015029  0.922399  0.442898  0.302600   \n",
       "..          ...            ...              ...       ...       ...       ...   \n",
       "171   -1.565724       1.013072        -1.822612  2.487938 -1.836403 -1.417722   \n",
       "172   -1.368747       0.680623        -0.542473  2.388540 -1.598976 -1.304914   \n",
       "174   -1.316911       0.597511        -0.179767  1.195747 -1.219092 -1.516429   \n",
       "176   -1.389482       1.428634        -0.073089  2.189741 -1.693947 -1.431823   \n",
       "177   -1.306544       1.677971        -0.307781  2.140041 -1.646461 -1.460025   \n",
       "\n",
       "      Proline  \n",
       "0    0.961785  \n",
       "1    0.915109  \n",
       "3    2.253135  \n",
       "4   -0.065072  \n",
       "5    2.159784  \n",
       "..        ...  \n",
       "171 -0.889669  \n",
       "172 -0.298449  \n",
       "174 -0.018397  \n",
       "176  0.261655  \n",
       "177 -0.609617  \n",
       "\n",
       "[148 rows x 13 columns]"
      ]
     },
     "execution_count": 49,
     "metadata": {},
     "output_type": "execute_result"
    }
   ],
   "source": [
    "Z"
   ]
  },
  {
   "cell_type": "code",
   "execution_count": 50,
   "id": "d6284257",
   "metadata": {},
   "outputs": [
    {
     "data": {
      "text/plain": [
       "Alcohol            5.288562e-15\n",
       "Malic             -3.915787e-16\n",
       "Ash               -1.839369e-15\n",
       "Alcalinity         6.586323e-16\n",
       "Magnesium          4.632181e-16\n",
       "Phenols            7.201447e-17\n",
       "Flavanoids         1.020205e-15\n",
       "Nonflavanoids     -9.211851e-16\n",
       "Proanthocyanins   -1.182988e-15\n",
       "Color              5.041013e-16\n",
       "Hue               -1.095220e-15\n",
       "Dilution           6.136233e-16\n",
       "Proline           -1.230247e-16\n",
       "dtype: float64"
      ]
     },
     "execution_count": 50,
     "metadata": {},
     "output_type": "execute_result"
    }
   ],
   "source": [
    "Z.mean() # mean of standardised data is almost 0 "
   ]
  },
  {
   "cell_type": "code",
   "execution_count": 51,
   "id": "abb8a8be",
   "metadata": {},
   "outputs": [
    {
     "data": {
      "text/plain": [
       "Alcohol            1.0\n",
       "Malic              1.0\n",
       "Ash                1.0\n",
       "Alcalinity         1.0\n",
       "Magnesium          1.0\n",
       "Phenols            1.0\n",
       "Flavanoids         1.0\n",
       "Nonflavanoids      1.0\n",
       "Proanthocyanins    1.0\n",
       "Color              1.0\n",
       "Hue                1.0\n",
       "Dilution           1.0\n",
       "Proline            1.0\n",
       "dtype: float64"
      ]
     },
     "execution_count": 51,
     "metadata": {},
     "output_type": "execute_result"
    }
   ],
   "source": [
    "Z.std() # standard deviation of standardised data is 1 "
   ]
  },
  {
   "cell_type": "markdown",
   "id": "ed1f3bed",
   "metadata": {},
   "source": [
    "Thus, we ensure that our standardised dataset has mean of 0 and a standard deviation of 1"
   ]
  },
  {
   "cell_type": "code",
   "execution_count": 52,
   "id": "12476cc7",
   "metadata": {},
   "outputs": [],
   "source": [
    "# covariance matrix\n",
    "c = Z.cov() "
   ]
  },
  {
   "cell_type": "code",
   "execution_count": 53,
   "id": "3db1a782",
   "metadata": {},
   "outputs": [
    {
     "data": {
      "text/html": [
       "<div>\n",
       "<style scoped>\n",
       "    .dataframe tbody tr th:only-of-type {\n",
       "        vertical-align: middle;\n",
       "    }\n",
       "\n",
       "    .dataframe tbody tr th {\n",
       "        vertical-align: top;\n",
       "    }\n",
       "\n",
       "    .dataframe thead th {\n",
       "        text-align: right;\n",
       "    }\n",
       "</style>\n",
       "<table border=\"1\" class=\"dataframe\">\n",
       "  <thead>\n",
       "    <tr style=\"text-align: right;\">\n",
       "      <th></th>\n",
       "      <th>Alcohol</th>\n",
       "      <th>Malic</th>\n",
       "      <th>Ash</th>\n",
       "      <th>Alcalinity</th>\n",
       "      <th>Magnesium</th>\n",
       "      <th>Phenols</th>\n",
       "      <th>Flavanoids</th>\n",
       "      <th>Nonflavanoids</th>\n",
       "      <th>Proanthocyanins</th>\n",
       "      <th>Color</th>\n",
       "      <th>Hue</th>\n",
       "      <th>Dilution</th>\n",
       "      <th>Proline</th>\n",
       "    </tr>\n",
       "  </thead>\n",
       "  <tbody>\n",
       "    <tr>\n",
       "      <th>Alcohol</th>\n",
       "      <td>1.000000</td>\n",
       "      <td>0.128285</td>\n",
       "      <td>0.225869</td>\n",
       "      <td>-0.339145</td>\n",
       "      <td>0.434284</td>\n",
       "      <td>0.347161</td>\n",
       "      <td>0.329816</td>\n",
       "      <td>-0.221109</td>\n",
       "      <td>0.252325</td>\n",
       "      <td>0.577535</td>\n",
       "      <td>-0.008299</td>\n",
       "      <td>0.144333</td>\n",
       "      <td>0.656333</td>\n",
       "    </tr>\n",
       "    <tr>\n",
       "      <th>Malic</th>\n",
       "      <td>0.128285</td>\n",
       "      <td>1.000000</td>\n",
       "      <td>0.166130</td>\n",
       "      <td>0.279318</td>\n",
       "      <td>0.012242</td>\n",
       "      <td>-0.366028</td>\n",
       "      <td>-0.450958</td>\n",
       "      <td>0.262948</td>\n",
       "      <td>-0.314569</td>\n",
       "      <td>0.266108</td>\n",
       "      <td>-0.568943</td>\n",
       "      <td>-0.382010</td>\n",
       "      <td>-0.186302</td>\n",
       "    </tr>\n",
       "    <tr>\n",
       "      <th>Ash</th>\n",
       "      <td>0.225869</td>\n",
       "      <td>0.166130</td>\n",
       "      <td>1.000000</td>\n",
       "      <td>0.282156</td>\n",
       "      <td>0.412340</td>\n",
       "      <td>0.130540</td>\n",
       "      <td>0.077806</td>\n",
       "      <td>0.053823</td>\n",
       "      <td>0.078559</td>\n",
       "      <td>0.249487</td>\n",
       "      <td>0.018082</td>\n",
       "      <td>-0.023775</td>\n",
       "      <td>0.264126</td>\n",
       "    </tr>\n",
       "    <tr>\n",
       "      <th>Alcalinity</th>\n",
       "      <td>-0.339145</td>\n",
       "      <td>0.279318</td>\n",
       "      <td>0.282156</td>\n",
       "      <td>1.000000</td>\n",
       "      <td>-0.247700</td>\n",
       "      <td>-0.444342</td>\n",
       "      <td>-0.488428</td>\n",
       "      <td>0.341051</td>\n",
       "      <td>-0.256315</td>\n",
       "      <td>-0.050891</td>\n",
       "      <td>-0.278930</td>\n",
       "      <td>-0.384065</td>\n",
       "      <td>-0.489901</td>\n",
       "    </tr>\n",
       "    <tr>\n",
       "      <th>Magnesium</th>\n",
       "      <td>0.434284</td>\n",
       "      <td>0.012242</td>\n",
       "      <td>0.412340</td>\n",
       "      <td>-0.247700</td>\n",
       "      <td>1.000000</td>\n",
       "      <td>0.296055</td>\n",
       "      <td>0.270058</td>\n",
       "      <td>-0.286949</td>\n",
       "      <td>0.197425</td>\n",
       "      <td>0.362024</td>\n",
       "      <td>0.016881</td>\n",
       "      <td>0.061619</td>\n",
       "      <td>0.453202</td>\n",
       "    </tr>\n",
       "    <tr>\n",
       "      <th>Phenols</th>\n",
       "      <td>0.347161</td>\n",
       "      <td>-0.366028</td>\n",
       "      <td>0.130540</td>\n",
       "      <td>-0.444342</td>\n",
       "      <td>0.296055</td>\n",
       "      <td>1.000000</td>\n",
       "      <td>0.876821</td>\n",
       "      <td>-0.500563</td>\n",
       "      <td>0.649931</td>\n",
       "      <td>0.009324</td>\n",
       "      <td>0.454696</td>\n",
       "      <td>0.695258</td>\n",
       "      <td>0.539806</td>\n",
       "    </tr>\n",
       "    <tr>\n",
       "      <th>Flavanoids</th>\n",
       "      <td>0.329816</td>\n",
       "      <td>-0.450958</td>\n",
       "      <td>0.077806</td>\n",
       "      <td>-0.488428</td>\n",
       "      <td>0.270058</td>\n",
       "      <td>0.876821</td>\n",
       "      <td>1.000000</td>\n",
       "      <td>-0.596591</td>\n",
       "      <td>0.752210</td>\n",
       "      <td>-0.092659</td>\n",
       "      <td>0.568318</td>\n",
       "      <td>0.776627</td>\n",
       "      <td>0.555597</td>\n",
       "    </tr>\n",
       "    <tr>\n",
       "      <th>Nonflavanoids</th>\n",
       "      <td>-0.221109</td>\n",
       "      <td>0.262948</td>\n",
       "      <td>0.053823</td>\n",
       "      <td>0.341051</td>\n",
       "      <td>-0.286949</td>\n",
       "      <td>-0.500563</td>\n",
       "      <td>-0.596591</td>\n",
       "      <td>1.000000</td>\n",
       "      <td>-0.480203</td>\n",
       "      <td>0.047161</td>\n",
       "      <td>-0.251176</td>\n",
       "      <td>-0.500278</td>\n",
       "      <td>-0.337635</td>\n",
       "    </tr>\n",
       "    <tr>\n",
       "      <th>Proanthocyanins</th>\n",
       "      <td>0.252325</td>\n",
       "      <td>-0.314569</td>\n",
       "      <td>0.078559</td>\n",
       "      <td>-0.256315</td>\n",
       "      <td>0.197425</td>\n",
       "      <td>0.649931</td>\n",
       "      <td>0.752210</td>\n",
       "      <td>-0.480203</td>\n",
       "      <td>1.000000</td>\n",
       "      <td>-0.028498</td>\n",
       "      <td>0.347827</td>\n",
       "      <td>0.630014</td>\n",
       "      <td>0.411774</td>\n",
       "    </tr>\n",
       "    <tr>\n",
       "      <th>Color</th>\n",
       "      <td>0.577535</td>\n",
       "      <td>0.266108</td>\n",
       "      <td>0.249487</td>\n",
       "      <td>-0.050891</td>\n",
       "      <td>0.362024</td>\n",
       "      <td>0.009324</td>\n",
       "      <td>-0.092659</td>\n",
       "      <td>0.047161</td>\n",
       "      <td>-0.028498</td>\n",
       "      <td>1.000000</td>\n",
       "      <td>-0.457821</td>\n",
       "      <td>-0.366373</td>\n",
       "      <td>0.390713</td>\n",
       "    </tr>\n",
       "    <tr>\n",
       "      <th>Hue</th>\n",
       "      <td>-0.008299</td>\n",
       "      <td>-0.568943</td>\n",
       "      <td>0.018082</td>\n",
       "      <td>-0.278930</td>\n",
       "      <td>0.016881</td>\n",
       "      <td>0.454696</td>\n",
       "      <td>0.568318</td>\n",
       "      <td>-0.251176</td>\n",
       "      <td>0.347827</td>\n",
       "      <td>-0.457821</td>\n",
       "      <td>1.000000</td>\n",
       "      <td>0.566054</td>\n",
       "      <td>0.258378</td>\n",
       "    </tr>\n",
       "    <tr>\n",
       "      <th>Dilution</th>\n",
       "      <td>0.144333</td>\n",
       "      <td>-0.382010</td>\n",
       "      <td>-0.023775</td>\n",
       "      <td>-0.384065</td>\n",
       "      <td>0.061619</td>\n",
       "      <td>0.695258</td>\n",
       "      <td>0.776627</td>\n",
       "      <td>-0.500278</td>\n",
       "      <td>0.630014</td>\n",
       "      <td>-0.366373</td>\n",
       "      <td>0.566054</td>\n",
       "      <td>1.000000</td>\n",
       "      <td>0.343366</td>\n",
       "    </tr>\n",
       "    <tr>\n",
       "      <th>Proline</th>\n",
       "      <td>0.656333</td>\n",
       "      <td>-0.186302</td>\n",
       "      <td>0.264126</td>\n",
       "      <td>-0.489901</td>\n",
       "      <td>0.453202</td>\n",
       "      <td>0.539806</td>\n",
       "      <td>0.555597</td>\n",
       "      <td>-0.337635</td>\n",
       "      <td>0.411774</td>\n",
       "      <td>0.390713</td>\n",
       "      <td>0.258378</td>\n",
       "      <td>0.343366</td>\n",
       "      <td>1.000000</td>\n",
       "    </tr>\n",
       "  </tbody>\n",
       "</table>\n",
       "</div>"
      ],
      "text/plain": [
       "                  Alcohol     Malic       Ash  Alcalinity  Magnesium  \\\n",
       "Alcohol          1.000000  0.128285  0.225869   -0.339145   0.434284   \n",
       "Malic            0.128285  1.000000  0.166130    0.279318   0.012242   \n",
       "Ash              0.225869  0.166130  1.000000    0.282156   0.412340   \n",
       "Alcalinity      -0.339145  0.279318  0.282156    1.000000  -0.247700   \n",
       "Magnesium        0.434284  0.012242  0.412340   -0.247700   1.000000   \n",
       "Phenols          0.347161 -0.366028  0.130540   -0.444342   0.296055   \n",
       "Flavanoids       0.329816 -0.450958  0.077806   -0.488428   0.270058   \n",
       "Nonflavanoids   -0.221109  0.262948  0.053823    0.341051  -0.286949   \n",
       "Proanthocyanins  0.252325 -0.314569  0.078559   -0.256315   0.197425   \n",
       "Color            0.577535  0.266108  0.249487   -0.050891   0.362024   \n",
       "Hue             -0.008299 -0.568943  0.018082   -0.278930   0.016881   \n",
       "Dilution         0.144333 -0.382010 -0.023775   -0.384065   0.061619   \n",
       "Proline          0.656333 -0.186302  0.264126   -0.489901   0.453202   \n",
       "\n",
       "                  Phenols  Flavanoids  Nonflavanoids  Proanthocyanins  \\\n",
       "Alcohol          0.347161    0.329816      -0.221109         0.252325   \n",
       "Malic           -0.366028   -0.450958       0.262948        -0.314569   \n",
       "Ash              0.130540    0.077806       0.053823         0.078559   \n",
       "Alcalinity      -0.444342   -0.488428       0.341051        -0.256315   \n",
       "Magnesium        0.296055    0.270058      -0.286949         0.197425   \n",
       "Phenols          1.000000    0.876821      -0.500563         0.649931   \n",
       "Flavanoids       0.876821    1.000000      -0.596591         0.752210   \n",
       "Nonflavanoids   -0.500563   -0.596591       1.000000        -0.480203   \n",
       "Proanthocyanins  0.649931    0.752210      -0.480203         1.000000   \n",
       "Color            0.009324   -0.092659       0.047161        -0.028498   \n",
       "Hue              0.454696    0.568318      -0.251176         0.347827   \n",
       "Dilution         0.695258    0.776627      -0.500278         0.630014   \n",
       "Proline          0.539806    0.555597      -0.337635         0.411774   \n",
       "\n",
       "                    Color       Hue  Dilution   Proline  \n",
       "Alcohol          0.577535 -0.008299  0.144333  0.656333  \n",
       "Malic            0.266108 -0.568943 -0.382010 -0.186302  \n",
       "Ash              0.249487  0.018082 -0.023775  0.264126  \n",
       "Alcalinity      -0.050891 -0.278930 -0.384065 -0.489901  \n",
       "Magnesium        0.362024  0.016881  0.061619  0.453202  \n",
       "Phenols          0.009324  0.454696  0.695258  0.539806  \n",
       "Flavanoids      -0.092659  0.568318  0.776627  0.555597  \n",
       "Nonflavanoids    0.047161 -0.251176 -0.500278 -0.337635  \n",
       "Proanthocyanins -0.028498  0.347827  0.630014  0.411774  \n",
       "Color            1.000000 -0.457821 -0.366373  0.390713  \n",
       "Hue             -0.457821  1.000000  0.566054  0.258378  \n",
       "Dilution        -0.366373  0.566054  1.000000  0.343366  \n",
       "Proline          0.390713  0.258378  0.343366  1.000000  "
      ]
     },
     "execution_count": 53,
     "metadata": {},
     "output_type": "execute_result"
    }
   ],
   "source": [
    "c"
   ]
  },
  {
   "cell_type": "markdown",
   "id": "0a8148dc",
   "metadata": {},
   "source": [
    "# Now we will compute the eigenvectors and eigenvalues for our feature space which serve a great purpose in identifying the principal components for our feature space."
   ]
  },
  {
   "cell_type": "code",
   "execution_count": 54,
   "id": "697d4c28",
   "metadata": {},
   "outputs": [],
   "source": [
    "import numpy as np\n",
    "eigenvalues, eigenvectors = np.linalg.eig(c)  # Linear algebra (numpy.linalg)"
   ]
  },
  {
   "cell_type": "code",
   "execution_count": 55,
   "id": "d00476b1",
   "metadata": {},
   "outputs": [
    {
     "data": {
      "text/plain": [
       "array([5.08493403, 2.65064685, 1.22160173, 0.88439101, 0.71706508,\n",
       "       0.61753279, 0.08293814, 0.45151379, 0.16734778, 0.34637108,\n",
       "       0.30262677, 0.22379775, 0.2492332 ])"
      ]
     },
     "execution_count": 55,
     "metadata": {},
     "output_type": "execute_result"
    }
   ],
   "source": [
    "eigenvalues"
   ]
  },
  {
   "cell_type": "code",
   "execution_count": 56,
   "id": "d980f3c0",
   "metadata": {},
   "outputs": [
    {
     "data": {
      "text/plain": [
       "array([[ 0.19846936,  0.4337992 ,  0.16776334,  0.0217286 , -0.29288358,\n",
       "        -0.11866558, -0.02866627, -0.37585793,  0.32949169, -0.34573545,\n",
       "         0.33911971,  0.27324461,  0.28999256],\n",
       "       [-0.21972065,  0.28755365, -0.04224111, -0.48961031, -0.1506865 ,\n",
       "        -0.64936878,  0.02290345,  0.01199223, -0.10996933, -0.0534223 ,\n",
       "        -0.03794315, -0.13736851, -0.38369463],\n",
       "       [ 0.04243229,  0.29993186, -0.71477317,  0.15966266, -0.0053064 ,\n",
       "        -0.09715954, -0.01961948, -0.03519351,  0.06402922,  0.33901856,\n",
       "        -0.24275115,  0.42506807,  0.04595197],\n",
       "       [-0.26439155, -0.025673  , -0.56499625, -0.22632674, -0.09786062,\n",
       "         0.3436965 ,  0.06353719, -0.30127285, -0.00645362, -0.19909241,\n",
       "         0.27559461, -0.45898454,  0.1009382 ],\n",
       "       [ 0.1725811 ,  0.36630679, -0.15183172,  0.1736992 ,  0.65094272,\n",
       "        -0.14815052,  0.01755827,  0.34672841, -0.06927667, -0.35460819,\n",
       "         0.17596987, -0.21004717,  0.10476403],\n",
       "       [ 0.38784636,  0.00494175, -0.07715727, -0.11007347, -0.13291761,\n",
       "         0.02052009, -0.4621256 ,  0.2681247 ,  0.24827432,  0.4184456 ,\n",
       "         0.4654201 , -0.213649  , -0.17012835],\n",
       "       [ 0.41753375, -0.05876156, -0.06201769, -0.11099217, -0.0824531 ,\n",
       "         0.02815664,  0.84669024,  0.1064001 ,  0.11242123,  0.11273074,\n",
       "         0.14613441, -0.01641146, -0.15257515],\n",
       "       [-0.29136725,  0.02022811, -0.08864691,  0.4145538 , -0.56562381,\n",
       "        -0.09782819,  0.09666519,  0.57902772, -0.00090561, -0.17054263,\n",
       "         0.08667557, -0.09470158,  0.12368608],\n",
       "       [ 0.33562718, -0.03360343, -0.14354747, -0.37369043, -0.17430715,\n",
       "         0.31476678, -0.19492896,  0.30051776,  0.06703817, -0.51405507,\n",
       "        -0.37387661,  0.17917239, -0.16604897],\n",
       "       [-0.01137579,  0.52817395,  0.16968684,  0.0024252 , -0.12967122,\n",
       "         0.44272779,  0.02378936,  0.02476331, -0.613632  ,  0.1419521 ,\n",
       "         0.15630633,  0.10714337, -0.21329718],\n",
       "       [ 0.26626776, -0.29117196, -0.18471959,  0.4592933 , -0.08699137,\n",
       "        -0.19107467, -0.10944335, -0.30786675, -0.28468745, -0.29210015,\n",
       "         0.16140556,  0.04296504, -0.50412766],\n",
       "       [ 0.35131596, -0.21232056, -0.09192013, -0.20681407, -0.15268006,\n",
       "        -0.26888328, -0.0565605 ,  0.01088432, -0.57339147,  0.04296904,\n",
       "         0.02249498, -0.02618077,  0.59121329],\n",
       "       [ 0.3067484 ,  0.30081172,  0.08525836,  0.25151371, -0.18896901,\n",
       "        -0.00669582, -0.01986751, -0.20506831,  0.07251739,  0.09398478,\n",
       "        -0.53052359, -0.6082765 ,  0.03376776]])"
      ]
     },
     "execution_count": 56,
     "metadata": {},
     "output_type": "execute_result"
    }
   ],
   "source": [
    "eigenvectors"
   ]
  },
  {
   "cell_type": "code",
   "execution_count": 57,
   "id": "2fee620e",
   "metadata": {},
   "outputs": [
    {
     "data": {
      "text/plain": [
       "(13,)"
      ]
     },
     "execution_count": 57,
     "metadata": {},
     "output_type": "execute_result"
    }
   ],
   "source": [
    "eigenvalues.shape  # 1D"
   ]
  },
  {
   "cell_type": "code",
   "execution_count": 58,
   "id": "8dab5873",
   "metadata": {},
   "outputs": [
    {
     "data": {
      "text/plain": [
       "(13, 13)"
      ]
     },
     "execution_count": 58,
     "metadata": {},
     "output_type": "execute_result"
    }
   ],
   "source": [
    "eigenvectors.shape   #2D"
   ]
  },
  {
   "cell_type": "markdown",
   "id": "66278528",
   "metadata": {},
   "source": [
    "\n",
    "Sort the eigenvalues in sequence and sort the corresponding eigenvectors accordingly."
   ]
  },
  {
   "cell_type": "code",
   "execution_count": 59,
   "id": "5034ff5c",
   "metadata": {},
   "outputs": [
    {
     "data": {
      "text/plain": [
       "array([ 6,  8, 11, 12, 10,  9,  7,  5,  4,  3,  2,  1,  0], dtype=int64)"
      ]
     },
     "execution_count": 59,
     "metadata": {},
     "output_type": "execute_result"
    }
   ],
   "source": [
    "eigenvalues.argsort() # return Index position to the eigenvalues"
   ]
  },
  {
   "cell_type": "markdown",
   "id": "41aef40a",
   "metadata": {},
   "source": [
    "Here, eigen values are not arranged in a sequence. So, let's arrange them in sequence and for that, first reverse the order of their index positions"
   ]
  },
  {
   "cell_type": "code",
   "execution_count": 60,
   "id": "239b26ef",
   "metadata": {},
   "outputs": [],
   "source": [
    "# reverse the order of their index positions \n",
    "idx = eigenvalues.argsort()[::-1] "
   ]
  },
  {
   "cell_type": "code",
   "execution_count": 61,
   "id": "948632e3",
   "metadata": {},
   "outputs": [
    {
     "data": {
      "text/plain": [
       "array([ 0,  1,  2,  3,  4,  5,  7,  9, 10, 12, 11,  8,  6], dtype=int64)"
      ]
     },
     "execution_count": 61,
     "metadata": {},
     "output_type": "execute_result"
    }
   ],
   "source": [
    "idx"
   ]
  },
  {
   "cell_type": "code",
   "execution_count": 62,
   "id": "be0944f3",
   "metadata": {},
   "outputs": [],
   "source": [
    "# Sort the eigenvalues based on above index positions \n",
    "eigenvalues = eigenvalues[idx]"
   ]
  },
  {
   "cell_type": "code",
   "execution_count": 63,
   "id": "049d36b4",
   "metadata": {},
   "outputs": [
    {
     "data": {
      "text/plain": [
       "array([5.08493403, 2.65064685, 1.22160173, 0.88439101, 0.71706508,\n",
       "       0.61753279, 0.45151379, 0.34637108, 0.30262677, 0.2492332 ,\n",
       "       0.22379775, 0.16734778, 0.08293814])"
      ]
     },
     "execution_count": 63,
     "metadata": {},
     "output_type": "execute_result"
    }
   ],
   "source": [
    "eigenvalues"
   ]
  },
  {
   "cell_type": "code",
   "execution_count": 64,
   "id": "84659ee3",
   "metadata": {},
   "outputs": [
    {
     "data": {
      "text/plain": [
       "array([12, 11, 10,  9,  8,  7,  6,  5,  4,  3,  2,  1,  0], dtype=int64)"
      ]
     },
     "execution_count": 64,
     "metadata": {},
     "output_type": "execute_result"
    }
   ],
   "source": [
    "eigenvalues.argsort() # check their index positions "
   ]
  },
  {
   "cell_type": "markdown",
   "id": "0fd3764f",
   "metadata": {},
   "source": [
    "It means, now eigen values are arranged sequentially (in descending order)"
   ]
  },
  {
   "cell_type": "code",
   "execution_count": 65,
   "id": "93b70282",
   "metadata": {},
   "outputs": [],
   "source": [
    "# sort the corresponding eigenvectors accordingly\n",
    "eigenvectors = eigenvectors[:,idx]"
   ]
  },
  {
   "cell_type": "code",
   "execution_count": 66,
   "id": "a161b398",
   "metadata": {},
   "outputs": [
    {
     "data": {
      "text/plain": [
       "array([[ 0.19846936,  0.4337992 ,  0.16776334,  0.0217286 , -0.29288358,\n",
       "        -0.11866558, -0.37585793, -0.34573545,  0.33911971,  0.28999256,\n",
       "         0.27324461,  0.32949169, -0.02866627],\n",
       "       [-0.21972065,  0.28755365, -0.04224111, -0.48961031, -0.1506865 ,\n",
       "        -0.64936878,  0.01199223, -0.0534223 , -0.03794315, -0.38369463,\n",
       "        -0.13736851, -0.10996933,  0.02290345],\n",
       "       [ 0.04243229,  0.29993186, -0.71477317,  0.15966266, -0.0053064 ,\n",
       "        -0.09715954, -0.03519351,  0.33901856, -0.24275115,  0.04595197,\n",
       "         0.42506807,  0.06402922, -0.01961948],\n",
       "       [-0.26439155, -0.025673  , -0.56499625, -0.22632674, -0.09786062,\n",
       "         0.3436965 , -0.30127285, -0.19909241,  0.27559461,  0.1009382 ,\n",
       "        -0.45898454, -0.00645362,  0.06353719],\n",
       "       [ 0.1725811 ,  0.36630679, -0.15183172,  0.1736992 ,  0.65094272,\n",
       "        -0.14815052,  0.34672841, -0.35460819,  0.17596987,  0.10476403,\n",
       "        -0.21004717, -0.06927667,  0.01755827],\n",
       "       [ 0.38784636,  0.00494175, -0.07715727, -0.11007347, -0.13291761,\n",
       "         0.02052009,  0.2681247 ,  0.4184456 ,  0.4654201 , -0.17012835,\n",
       "        -0.213649  ,  0.24827432, -0.4621256 ],\n",
       "       [ 0.41753375, -0.05876156, -0.06201769, -0.11099217, -0.0824531 ,\n",
       "         0.02815664,  0.1064001 ,  0.11273074,  0.14613441, -0.15257515,\n",
       "        -0.01641146,  0.11242123,  0.84669024],\n",
       "       [-0.29136725,  0.02022811, -0.08864691,  0.4145538 , -0.56562381,\n",
       "        -0.09782819,  0.57902772, -0.17054263,  0.08667557,  0.12368608,\n",
       "        -0.09470158, -0.00090561,  0.09666519],\n",
       "       [ 0.33562718, -0.03360343, -0.14354747, -0.37369043, -0.17430715,\n",
       "         0.31476678,  0.30051776, -0.51405507, -0.37387661, -0.16604897,\n",
       "         0.17917239,  0.06703817, -0.19492896],\n",
       "       [-0.01137579,  0.52817395,  0.16968684,  0.0024252 , -0.12967122,\n",
       "         0.44272779,  0.02476331,  0.1419521 ,  0.15630633, -0.21329718,\n",
       "         0.10714337, -0.613632  ,  0.02378936],\n",
       "       [ 0.26626776, -0.29117196, -0.18471959,  0.4592933 , -0.08699137,\n",
       "        -0.19107467, -0.30786675, -0.29210015,  0.16140556, -0.50412766,\n",
       "         0.04296504, -0.28468745, -0.10944335],\n",
       "       [ 0.35131596, -0.21232056, -0.09192013, -0.20681407, -0.15268006,\n",
       "        -0.26888328,  0.01088432,  0.04296904,  0.02249498,  0.59121329,\n",
       "        -0.02618077, -0.57339147, -0.0565605 ],\n",
       "       [ 0.3067484 ,  0.30081172,  0.08525836,  0.25151371, -0.18896901,\n",
       "        -0.00669582, -0.20506831,  0.09398478, -0.53052359,  0.03376776,\n",
       "        -0.6082765 ,  0.07251739, -0.01986751]])"
      ]
     },
     "execution_count": 66,
     "metadata": {},
     "output_type": "execute_result"
    }
   ],
   "source": [
    "eigenvectors"
   ]
  },
  {
   "cell_type": "code",
   "execution_count": 67,
   "id": "5353ba1f",
   "metadata": {},
   "outputs": [
    {
     "data": {
      "text/plain": [
       "array([ 5.08493403,  7.73558088,  8.95718261,  9.84157362, 10.5586387 ,\n",
       "       11.17617149, 11.62768528, 11.97405636, 12.27668313, 12.52591633,\n",
       "       12.74971408, 12.91706186, 13.        ])"
      ]
     },
     "execution_count": 67,
     "metadata": {},
     "output_type": "execute_result"
    }
   ],
   "source": [
    "np.cumsum(eigenvalues) # cumulative sum of eigen values (display the sum of eigen values as they grow with time)"
   ]
  },
  {
   "cell_type": "code",
   "execution_count": 68,
   "id": "33a2ec00",
   "metadata": {},
   "outputs": [
    {
     "data": {
      "text/plain": [
       "13.00000000000001"
      ]
     },
     "execution_count": 68,
     "metadata": {},
     "output_type": "execute_result"
    }
   ],
   "source": [
    "np.sum(eigenvalues) # total sum of eigen values "
   ]
  },
  {
   "cell_type": "markdown",
   "id": "16228fdc",
   "metadata": {},
   "source": [
    "# Explained variance is the term that gives us an idea of the amount of the total variance which has been retained by selecting the principal components instead of the original feature space."
   ]
  },
  {
   "cell_type": "code",
   "execution_count": 69,
   "id": "373f487c",
   "metadata": {},
   "outputs": [],
   "source": [
    "explained_var = np.cumsum(eigenvalues) / np.sum(eigenvalues)"
   ]
  },
  {
   "cell_type": "code",
   "execution_count": 70,
   "id": "5ea31b60",
   "metadata": {},
   "outputs": [
    {
     "data": {
      "text/plain": [
       "array([0.39114877, 0.59504468, 0.68901405, 0.75704412, 0.81220298,\n",
       "       0.8597055 , 0.89443733, 0.92108126, 0.94436024, 0.96353203,\n",
       "       0.98074724, 0.99362014, 1.        ])"
      ]
     },
     "execution_count": 70,
     "metadata": {},
     "output_type": "execute_result"
    }
   ],
   "source": [
    "explained_var"
   ]
  },
  {
   "cell_type": "markdown",
   "id": "e9d447d6",
   "metadata": {},
   "source": [
    "# Determine the Number of Principal Components"
   ]
  },
  {
   "cell_type": "markdown",
   "id": "dc3cb431",
   "metadata": {},
   "source": [
    "Here we can either consider the number of principal components of any value of our choice or by limiting the explained variance. Here I am considering explained variance score more than equal to 50%. Let’s check how many principal components come into this."
   ]
  },
  {
   "cell_type": "code",
   "execution_count": 71,
   "id": "84c2ba48",
   "metadata": {},
   "outputs": [
    {
     "data": {
      "text/plain": [
       "array([False,  True,  True,  True,  True,  True,  True,  True,  True,\n",
       "        True,  True,  True,  True])"
      ]
     },
     "execution_count": 71,
     "metadata": {},
     "output_type": "execute_result"
    }
   ],
   "source": [
    "explained_var >= 0.50"
   ]
  },
  {
   "cell_type": "code",
   "execution_count": 72,
   "id": "6def98e7",
   "metadata": {},
   "outputs": [
    {
     "data": {
      "text/plain": [
       "2"
      ]
     },
     "execution_count": 72,
     "metadata": {},
     "output_type": "execute_result"
    }
   ],
   "source": [
    "#argmax is a function which gives the index of the greatest number in the given row or column \n",
    "#boolean: argmax() returns the index position of 1st True \n",
    "\n",
    "n_components = np.argmax(explained_var >= 0.50) + 1  \n",
    "n_components #Number of Principal Components "
   ]
  },
  {
   "cell_type": "markdown",
   "id": "26998174",
   "metadata": {},
   "source": [
    "# Project the Data onto the Selected Principal Components\n",
    "i.e. Transform the original dataset into the principal components"
   ]
  },
  {
   "cell_type": "code",
   "execution_count": 73,
   "id": "d8f306cf",
   "metadata": {},
   "outputs": [],
   "source": [
    "#PCA using Using Sklearn\n",
    "# Importing PCA\n",
    "from sklearn.decomposition import PCA\n",
    "pca = PCA(n_components) # pass no. of principal components to PCA function "
   ]
  },
  {
   "cell_type": "code",
   "execution_count": 74,
   "id": "9bdec0e9",
   "metadata": {},
   "outputs": [
    {
     "data": {
      "text/plain": [
       "PCA(n_components=2)"
      ]
     },
     "execution_count": 74,
     "metadata": {},
     "output_type": "execute_result"
    }
   ],
   "source": [
    "pca"
   ]
  },
  {
   "cell_type": "code",
   "execution_count": 75,
   "id": "3fefef3c",
   "metadata": {},
   "outputs": [],
   "source": [
    "pca.fit(Z)\n",
    "x_pca = pca.transform(Z) # project the data onto the principal components using fit and transform functions "
   ]
  },
  {
   "cell_type": "code",
   "execution_count": 76,
   "id": "bb782f29",
   "metadata": {},
   "outputs": [
    {
     "data": {
      "text/plain": [
       "array([[-3.72359148, -1.27015867],\n",
       "       [-2.27599917,  0.52109225],\n",
       "       [-4.18705396, -2.41095697],\n",
       "       [-1.19248423, -0.96131047],\n",
       "       [-3.4374346 , -1.83093589],\n",
       "       [-2.72857141, -0.81818964],\n",
       "       [-2.25636581, -1.58983153],\n",
       "       [-2.7917586 , -0.52569354],\n",
       "       [-2.97149469, -0.46650874],\n",
       "       [-3.77892088, -0.836168  ],\n",
       "       [-1.89347225, -0.31342335],\n",
       "       [-2.29005873, -0.30122041],\n",
       "       [-2.58522892, -1.58778191],\n",
       "       [-2.54739064, -2.21564686],\n",
       "       [-2.16524723, -1.50431144],\n",
       "       [-3.9465936 , -2.14658352],\n",
       "       [-2.34019724, -1.15149757],\n",
       "       [-3.43873238, -0.6573768 ],\n",
       "       [-1.21510591, -0.2936973 ],\n",
       "       [-2.60777759,  0.41639938],\n",
       "       [-1.61863754,  0.73533419],\n",
       "       [-1.76643633,  0.58599911],\n",
       "       [-1.88252677, -0.42954583],\n",
       "       [-1.20596845,  0.34509034],\n",
       "       [-2.36547563, -0.47606692],\n",
       "       [-2.40258238,  0.17038298],\n",
       "       [-2.75182676, -0.82839593],\n",
       "       [-2.91593877, -1.16375006],\n",
       "       [-1.7812643 ,  0.20209997],\n",
       "       [-2.13158475, -1.63692538],\n",
       "       [-1.54744743, -0.62835609],\n",
       "       [-1.9785383 ,  0.08385331],\n",
       "       [-1.5817528 , -0.69667402],\n",
       "       [-1.17425021,  0.02224024],\n",
       "       [-1.47694397,  0.99146474],\n",
       "       [-2.96158319, -1.96620392],\n",
       "       [-2.90457544, -0.60728062],\n",
       "       [-0.62248328, -0.0513197 ],\n",
       "       [-3.30653718, -0.87929051],\n",
       "       [-0.52954698, -0.4287225 ],\n",
       "       [-2.20933724,  0.29617218],\n",
       "       [-1.26435097, -1.85511827],\n",
       "       [-2.98587015, -0.89890426],\n",
       "       [-3.04686196, -0.29130889],\n",
       "       [-2.3216632 , -0.97267992],\n",
       "       [-3.06264083, -1.50011159],\n",
       "       [-3.13767676, -0.32932909],\n",
       "       [-3.8396842 , -1.31913312],\n",
       "       [-2.52986236, -1.75078588],\n",
       "       [-2.36335495, -0.96184694],\n",
       "       [-2.7779493 , -1.13907374],\n",
       "       [-3.06853425, -1.2688201 ],\n",
       "       [-2.39348814, -1.02424045],\n",
       "       [-3.47111377, -1.43942202],\n",
       "       [ 1.74993782,  1.18942526],\n",
       "       [ 1.96587374,  0.54329858],\n",
       "       [ 0.166725  ,  1.34935902],\n",
       "       [-1.93534018,  2.2962458 ],\n",
       "       [ 0.76065914,  1.7366407 ],\n",
       "       [-1.00974755,  0.89095492],\n",
       "       [ 0.15255039,  2.64004432],\n",
       "       [ 0.9248472 ,  0.06992862],\n",
       "       [ 1.66411819,  0.70979481],\n",
       "       [-1.58585687,  1.35263332],\n",
       "       [ 0.96857508,  1.11964863],\n",
       "       [-1.66909585,  1.53792418],\n",
       "       [ 1.07244201,  2.26545433],\n",
       "       [ 1.64227389,  0.98176708],\n",
       "       [-0.27022765,  1.07805358],\n",
       "       [-0.44039196,  3.64322777],\n",
       "       [-0.94432008,  1.71302928],\n",
       "       [ 0.82051378,  2.62815045],\n",
       "       [ 2.60308133, -0.09394047],\n",
       "       [-0.874684  ,  1.61426062],\n",
       "       [-0.65118258,  2.15365128],\n",
       "       [ 1.04396124,  2.31242326],\n",
       "       [ 0.90679594,  2.46041866],\n",
       "       [ 1.38377151,  1.83741728],\n",
       "       [ 0.9760276 ,  3.0130753 ],\n",
       "       [ 1.52176735,  2.1724702 ],\n",
       "       [ 1.74671696,  1.83306587],\n",
       "       [ 2.08743982,  1.62828885],\n",
       "       [-0.60692379,  2.45434986],\n",
       "       [-0.75152218,  2.21770841],\n",
       "       [ 0.50043306, -0.16470365],\n",
       "       [-0.87582861,  2.84965026],\n",
       "       [-2.17801376,  1.87808282],\n",
       "       [ 0.7956389 ,  2.38783002],\n",
       "       [ 0.35153282,  1.11015919],\n",
       "       [ 1.00079785,  2.80051307],\n",
       "       [-0.10996535,  2.36806066],\n",
       "       [ 2.02310494,  1.676514  ],\n",
       "       [ 0.57054386,  2.32891086],\n",
       "       [ 1.78371256,  1.39563528],\n",
       "       [ 0.07304054,  2.50647757],\n",
       "       [-1.58659776,  1.75092214],\n",
       "       [ 0.57671223,  1.98352649],\n",
       "       [ 1.38288468,  0.45083492],\n",
       "       [ 0.69311533,  2.35518084],\n",
       "       [ 0.82443138,  2.04671356],\n",
       "       [ 0.60165412,  2.99424922],\n",
       "       [ 0.29861732,  1.91628813],\n",
       "       [ 2.66134401,  1.00819425],\n",
       "       [ 0.79200541,  2.29861799],\n",
       "       [-0.59858895,  1.49852389],\n",
       "       [ 1.34016807,  0.44712704],\n",
       "       [ 0.40636981,  2.25107465],\n",
       "       [ 0.10017496,  1.45585374],\n",
       "       [ 0.70860151,  2.12933872],\n",
       "       [ 2.06112264,  1.02751525],\n",
       "       [ 1.28074035, -0.66146284],\n",
       "       [ 2.40363511, -0.94266782],\n",
       "       [ 3.04569613, -0.7476199 ],\n",
       "       [ 2.21702276, -0.93272344],\n",
       "       [ 2.42907978,  0.32706792],\n",
       "       [ 3.09549106, -0.75885323],\n",
       "       [ 4.07777435, -0.72238106],\n",
       "       [ 3.17651391, -0.71164112],\n",
       "       [ 2.52229257, -0.66388258],\n",
       "       [ 2.87269832, -0.71501335],\n",
       "       [ 2.40318377, -0.68175353],\n",
       "       [ 3.11669829, -0.94685452],\n",
       "       [ 2.44145971, -0.86804949],\n",
       "       [ 2.11461322, -1.84600975],\n",
       "       [ 2.6694657 , -0.93318372],\n",
       "       [ 4.38865163, -1.23343222],\n",
       "       [ 3.62158362, -1.85557506],\n",
       "       [ 2.71971101, -2.00520347],\n",
       "       [ 2.71185252, -2.82367126],\n",
       "       [ 2.07114252, -3.12896589],\n",
       "       [ 1.64693944, -2.03112726],\n",
       "       [ 2.68633607, -0.7881161 ],\n",
       "       [ 2.6710792 , -2.40498513],\n",
       "       [ 3.4526571 , -1.73695135],\n",
       "       [ 3.1978202 , -1.2291294 ],\n",
       "       [ 2.18883575, -1.66248216],\n",
       "       [ 2.88163662, -1.07252764],\n",
       "       [ 2.58028468, -1.26259056],\n",
       "       [ 2.86109414, -2.00660881],\n",
       "       [ 3.55220716, -1.34096771],\n",
       "       [ 1.96928124, -2.52292896],\n",
       "       [ 2.21196081, -3.33408639],\n",
       "       [ 3.33922962, -0.32736753],\n",
       "       [ 3.69081059, -1.42584727],\n",
       "       [ 2.2392385 , -2.59127159],\n",
       "       [ 2.48301893, -2.24510834],\n",
       "       [ 2.1034136 , -2.90546081],\n",
       "       [ 3.00082097, -3.30595771]])"
      ]
     },
     "execution_count": 76,
     "metadata": {},
     "output_type": "execute_result"
    }
   ],
   "source": [
    "x_pca   # principal components "
   ]
  },
  {
   "cell_type": "code",
   "execution_count": 77,
   "id": "8e483082",
   "metadata": {},
   "outputs": [
    {
     "data": {
      "text/plain": [
       "array([-3.72359148, -2.27599917, -4.18705396, -1.19248423, -3.4374346 ,\n",
       "       -2.72857141, -2.25636581, -2.7917586 , -2.97149469, -3.77892088,\n",
       "       -1.89347225, -2.29005873, -2.58522892, -2.54739064, -2.16524723,\n",
       "       -3.9465936 , -2.34019724, -3.43873238, -1.21510591, -2.60777759,\n",
       "       -1.61863754, -1.76643633, -1.88252677, -1.20596845, -2.36547563,\n",
       "       -2.40258238, -2.75182676, -2.91593877, -1.7812643 , -2.13158475,\n",
       "       -1.54744743, -1.9785383 , -1.5817528 , -1.17425021, -1.47694397,\n",
       "       -2.96158319, -2.90457544, -0.62248328, -3.30653718, -0.52954698,\n",
       "       -2.20933724, -1.26435097, -2.98587015, -3.04686196, -2.3216632 ,\n",
       "       -3.06264083, -3.13767676, -3.8396842 , -2.52986236, -2.36335495,\n",
       "       -2.7779493 , -3.06853425, -2.39348814, -3.47111377,  1.74993782,\n",
       "        1.96587374,  0.166725  , -1.93534018,  0.76065914, -1.00974755,\n",
       "        0.15255039,  0.9248472 ,  1.66411819, -1.58585687,  0.96857508,\n",
       "       -1.66909585,  1.07244201,  1.64227389, -0.27022765, -0.44039196,\n",
       "       -0.94432008,  0.82051378,  2.60308133, -0.874684  , -0.65118258,\n",
       "        1.04396124,  0.90679594,  1.38377151,  0.9760276 ,  1.52176735,\n",
       "        1.74671696,  2.08743982, -0.60692379, -0.75152218,  0.50043306,\n",
       "       -0.87582861, -2.17801376,  0.7956389 ,  0.35153282,  1.00079785,\n",
       "       -0.10996535,  2.02310494,  0.57054386,  1.78371256,  0.07304054,\n",
       "       -1.58659776,  0.57671223,  1.38288468,  0.69311533,  0.82443138,\n",
       "        0.60165412,  0.29861732,  2.66134401,  0.79200541, -0.59858895,\n",
       "        1.34016807,  0.40636981,  0.10017496,  0.70860151,  2.06112264,\n",
       "        1.28074035,  2.40363511,  3.04569613,  2.21702276,  2.42907978,\n",
       "        3.09549106,  4.07777435,  3.17651391,  2.52229257,  2.87269832,\n",
       "        2.40318377,  3.11669829,  2.44145971,  2.11461322,  2.6694657 ,\n",
       "        4.38865163,  3.62158362,  2.71971101,  2.71185252,  2.07114252,\n",
       "        1.64693944,  2.68633607,  2.6710792 ,  3.4526571 ,  3.1978202 ,\n",
       "        2.18883575,  2.88163662,  2.58028468,  2.86109414,  3.55220716,\n",
       "        1.96928124,  2.21196081,  3.33922962,  3.69081059,  2.2392385 ,\n",
       "        2.48301893,  2.1034136 ,  3.00082097])"
      ]
     },
     "execution_count": 77,
     "metadata": {},
     "output_type": "execute_result"
    }
   ],
   "source": [
    "x_pca[:, 0]  # 1st principal component"
   ]
  },
  {
   "cell_type": "code",
   "execution_count": 78,
   "id": "add98012",
   "metadata": {},
   "outputs": [
    {
     "data": {
      "text/plain": [
       "array([-1.27015867,  0.52109225, -2.41095697, -0.96131047, -1.83093589,\n",
       "       -0.81818964, -1.58983153, -0.52569354, -0.46650874, -0.836168  ,\n",
       "       -0.31342335, -0.30122041, -1.58778191, -2.21564686, -1.50431144,\n",
       "       -2.14658352, -1.15149757, -0.6573768 , -0.2936973 ,  0.41639938,\n",
       "        0.73533419,  0.58599911, -0.42954583,  0.34509034, -0.47606692,\n",
       "        0.17038298, -0.82839593, -1.16375006,  0.20209997, -1.63692538,\n",
       "       -0.62835609,  0.08385331, -0.69667402,  0.02224024,  0.99146474,\n",
       "       -1.96620392, -0.60728062, -0.0513197 , -0.87929051, -0.4287225 ,\n",
       "        0.29617218, -1.85511827, -0.89890426, -0.29130889, -0.97267992,\n",
       "       -1.50011159, -0.32932909, -1.31913312, -1.75078588, -0.96184694,\n",
       "       -1.13907374, -1.2688201 , -1.02424045, -1.43942202,  1.18942526,\n",
       "        0.54329858,  1.34935902,  2.2962458 ,  1.7366407 ,  0.89095492,\n",
       "        2.64004432,  0.06992862,  0.70979481,  1.35263332,  1.11964863,\n",
       "        1.53792418,  2.26545433,  0.98176708,  1.07805358,  3.64322777,\n",
       "        1.71302928,  2.62815045, -0.09394047,  1.61426062,  2.15365128,\n",
       "        2.31242326,  2.46041866,  1.83741728,  3.0130753 ,  2.1724702 ,\n",
       "        1.83306587,  1.62828885,  2.45434986,  2.21770841, -0.16470365,\n",
       "        2.84965026,  1.87808282,  2.38783002,  1.11015919,  2.80051307,\n",
       "        2.36806066,  1.676514  ,  2.32891086,  1.39563528,  2.50647757,\n",
       "        1.75092214,  1.98352649,  0.45083492,  2.35518084,  2.04671356,\n",
       "        2.99424922,  1.91628813,  1.00819425,  2.29861799,  1.49852389,\n",
       "        0.44712704,  2.25107465,  1.45585374,  2.12933872,  1.02751525,\n",
       "       -0.66146284, -0.94266782, -0.7476199 , -0.93272344,  0.32706792,\n",
       "       -0.75885323, -0.72238106, -0.71164112, -0.66388258, -0.71501335,\n",
       "       -0.68175353, -0.94685452, -0.86804949, -1.84600975, -0.93318372,\n",
       "       -1.23343222, -1.85557506, -2.00520347, -2.82367126, -3.12896589,\n",
       "       -2.03112726, -0.7881161 , -2.40498513, -1.73695135, -1.2291294 ,\n",
       "       -1.66248216, -1.07252764, -1.26259056, -2.00660881, -1.34096771,\n",
       "       -2.52292896, -3.33408639, -0.32736753, -1.42584727, -2.59127159,\n",
       "       -2.24510834, -2.90546081, -3.30595771])"
      ]
     },
     "execution_count": 78,
     "metadata": {},
     "output_type": "execute_result"
    }
   ],
   "source": [
    "x_pca[:, 1]  # 2nd principal component"
   ]
  },
  {
   "cell_type": "markdown",
   "id": "5566f5d7",
   "metadata": {},
   "source": [
    "# Conclusion: \n",
    "using PCA, we have reduced the no. of features from 13 to 2. These 2 columns in eigen space known as principal components which retains the total variance of the dataset without losing any valuable information.  "
   ]
  },
  {
   "cell_type": "markdown",
   "id": "44b5356f",
   "metadata": {},
   "source": [
    "# Task 3: Clustering with Original Data:"
   ]
  },
  {
   "cell_type": "markdown",
   "id": "6d23b8c1",
   "metadata": {},
   "source": [
    "# Apply a clustering algorithm (e.g., K-means) to the original dataset."
   ]
  },
  {
   "cell_type": "code",
   "execution_count": 79,
   "id": "2851ed1b",
   "metadata": {},
   "outputs": [
    {
     "data": {
      "text/plain": [
       "Text(0, 0.5, 'WCSS')"
      ]
     },
     "execution_count": 79,
     "metadata": {},
     "output_type": "execute_result"
    },
    {
     "data": {
      "image/png": "[encoded data removed]",
      "text/plain": [
       "<Figure size 640x480 with 1 Axes>"
      ]
     },
     "metadata": {},
     "output_type": "display_data"
    }
   ],
   "source": [
    "from sklearn.cluster import KMeans  # K means clustering algo\n",
    "\n",
    "wcss = [] # empty list\n",
    "for K in range(1,11):\n",
    "    kmeans = KMeans(n_clusters=K,random_state=10)  # define algorithm\n",
    "    kmeans.fit(X)  # train algorithm\n",
    "    wcss.append(kmeans.inertia_)  # append distance in the empty list\n",
    "    \n",
    "plt.plot(range(1,11),wcss)\n",
    "plt.title('The Elbow Method')\n",
    "plt.xlabel('No of clusters')\n",
    "plt.ylabel(\"WCSS\")"
   ]
  },
  {
   "cell_type": "markdown",
   "id": "49c5b039",
   "metadata": {},
   "source": [
    "At K= 4, graph stop reducing drastically . So, K=4 is the optimal no. of clusters"
   ]
  },
  {
   "cell_type": "markdown",
   "id": "d93f1e26",
   "metadata": {},
   "source": [
    "Inertia measures how well a dataset was clustered by K-Means. It is calculated by measuring the distance between each data point and its centroid, squaring this distance, and summing these squares across one cluster. A good model is one with low inertia AND a low number of clusters ( K )."
   ]
  },
  {
   "cell_type": "code",
   "execution_count": 80,
   "id": "dcbd2a22",
   "metadata": {},
   "outputs": [],
   "source": [
    "#Again train the model using best value of K i.e. K =4\n",
    "kmeans = KMeans(n_clusters=4,random_state=10)\n",
    "Y_pred = kmeans.fit_predict(X)   # train the model & then calculate the predicted classes for given dataset"
   ]
  },
  {
   "cell_type": "code",
   "execution_count": 81,
   "id": "185a4c2f",
   "metadata": {},
   "outputs": [
    {
     "data": {
      "text/plain": [
       "array([3, 3, 1, 0, 1, 1, 1, 3, 3, 1, 1, 1, 1, 1, 3, 1, 3, 0, 0, 3, 3, 3,\n",
       "       1, 1, 3, 3, 1, 1, 3, 1, 3, 3, 3, 3, 3, 0, 0, 3, 3, 0, 3, 3, 3, 3,\n",
       "       3, 1, 1, 1, 1, 3, 3, 3, 1, 1, 0, 2, 0, 2, 2, 0, 2, 0, 3, 2, 2, 3,\n",
       "       2, 2, 2, 2, 0, 0, 2, 2, 2, 2, 0, 0, 0, 2, 2, 2, 2, 2, 0, 2, 0, 0,\n",
       "       2, 2, 0, 2, 2, 2, 2, 0, 2, 0, 2, 2, 2, 2, 2, 0, 0, 2, 2, 2, 2, 0,\n",
       "       0, 2, 0, 0, 0, 0, 0, 0, 0, 0, 0, 2, 0, 3, 3, 2, 0, 0, 0, 2, 2, 0,\n",
       "       2, 3, 2, 0, 0, 0, 0, 2, 0, 0, 2, 2, 0, 0, 3, 0])"
      ]
     },
     "execution_count": 81,
     "metadata": {},
     "output_type": "execute_result"
    }
   ],
   "source": [
    "Y_pred"
   ]
  },
  {
   "cell_type": "code",
   "execution_count": 82,
   "id": "099f76a5",
   "metadata": {},
   "outputs": [],
   "source": [
    "data['clusters'] = Y_pred # add a new column "
   ]
  },
  {
   "cell_type": "code",
   "execution_count": 83,
   "id": "df2c442f",
   "metadata": {},
   "outputs": [
    {
     "data": {
      "text/html": [
       "<div>\n",
       "<style scoped>\n",
       "    .dataframe tbody tr th:only-of-type {\n",
       "        vertical-align: middle;\n",
       "    }\n",
       "\n",
       "    .dataframe tbody tr th {\n",
       "        vertical-align: top;\n",
       "    }\n",
       "\n",
       "    .dataframe thead th {\n",
       "        text-align: right;\n",
       "    }\n",
       "</style>\n",
       "<table border=\"1\" class=\"dataframe\">\n",
       "  <thead>\n",
       "    <tr style=\"text-align: right;\">\n",
       "      <th></th>\n",
       "      <th>Type</th>\n",
       "      <th>Alcohol</th>\n",
       "      <th>Malic</th>\n",
       "      <th>Ash</th>\n",
       "      <th>Alcalinity</th>\n",
       "      <th>Magnesium</th>\n",
       "      <th>Phenols</th>\n",
       "      <th>Flavanoids</th>\n",
       "      <th>Nonflavanoids</th>\n",
       "      <th>Proanthocyanins</th>\n",
       "      <th>Color</th>\n",
       "      <th>Hue</th>\n",
       "      <th>Dilution</th>\n",
       "      <th>Proline</th>\n",
       "      <th>clusters</th>\n",
       "    </tr>\n",
       "  </thead>\n",
       "  <tbody>\n",
       "    <tr>\n",
       "      <th>0</th>\n",
       "      <td>1</td>\n",
       "      <td>14.23</td>\n",
       "      <td>1.71</td>\n",
       "      <td>2.43</td>\n",
       "      <td>15.6</td>\n",
       "      <td>127</td>\n",
       "      <td>2.80</td>\n",
       "      <td>3.06</td>\n",
       "      <td>0.28</td>\n",
       "      <td>2.29</td>\n",
       "      <td>5.64</td>\n",
       "      <td>1.04</td>\n",
       "      <td>3.92</td>\n",
       "      <td>1065</td>\n",
       "      <td>3</td>\n",
       "    </tr>\n",
       "    <tr>\n",
       "      <th>1</th>\n",
       "      <td>1</td>\n",
       "      <td>13.20</td>\n",
       "      <td>1.78</td>\n",
       "      <td>2.14</td>\n",
       "      <td>11.2</td>\n",
       "      <td>100</td>\n",
       "      <td>2.65</td>\n",
       "      <td>2.76</td>\n",
       "      <td>0.26</td>\n",
       "      <td>1.28</td>\n",
       "      <td>4.38</td>\n",
       "      <td>1.05</td>\n",
       "      <td>3.40</td>\n",
       "      <td>1050</td>\n",
       "      <td>3</td>\n",
       "    </tr>\n",
       "    <tr>\n",
       "      <th>3</th>\n",
       "      <td>1</td>\n",
       "      <td>14.37</td>\n",
       "      <td>1.95</td>\n",
       "      <td>2.50</td>\n",
       "      <td>16.8</td>\n",
       "      <td>113</td>\n",
       "      <td>3.85</td>\n",
       "      <td>3.49</td>\n",
       "      <td>0.24</td>\n",
       "      <td>2.18</td>\n",
       "      <td>7.80</td>\n",
       "      <td>0.86</td>\n",
       "      <td>3.45</td>\n",
       "      <td>1480</td>\n",
       "      <td>1</td>\n",
       "    </tr>\n",
       "    <tr>\n",
       "      <th>4</th>\n",
       "      <td>1</td>\n",
       "      <td>13.24</td>\n",
       "      <td>2.59</td>\n",
       "      <td>2.87</td>\n",
       "      <td>21.0</td>\n",
       "      <td>118</td>\n",
       "      <td>2.80</td>\n",
       "      <td>2.69</td>\n",
       "      <td>0.39</td>\n",
       "      <td>1.82</td>\n",
       "      <td>4.32</td>\n",
       "      <td>1.04</td>\n",
       "      <td>2.93</td>\n",
       "      <td>735</td>\n",
       "      <td>0</td>\n",
       "    </tr>\n",
       "    <tr>\n",
       "      <th>5</th>\n",
       "      <td>1</td>\n",
       "      <td>14.20</td>\n",
       "      <td>1.76</td>\n",
       "      <td>2.45</td>\n",
       "      <td>15.2</td>\n",
       "      <td>112</td>\n",
       "      <td>3.27</td>\n",
       "      <td>3.39</td>\n",
       "      <td>0.34</td>\n",
       "      <td>1.97</td>\n",
       "      <td>6.75</td>\n",
       "      <td>1.05</td>\n",
       "      <td>2.85</td>\n",
       "      <td>1450</td>\n",
       "      <td>1</td>\n",
       "    </tr>\n",
       "  </tbody>\n",
       "</table>\n",
       "</div>"
      ],
      "text/plain": [
       "   Type  Alcohol  Malic   Ash  Alcalinity  Magnesium  Phenols  Flavanoids  \\\n",
       "0     1    14.23   1.71  2.43        15.6        127     2.80        3.06   \n",
       "1     1    13.20   1.78  2.14        11.2        100     2.65        2.76   \n",
       "3     1    14.37   1.95  2.50        16.8        113     3.85        3.49   \n",
       "4     1    13.24   2.59  2.87        21.0        118     2.80        2.69   \n",
       "5     1    14.20   1.76  2.45        15.2        112     3.27        3.39   \n",
       "\n",
       "   Nonflavanoids  Proanthocyanins  Color   Hue  Dilution  Proline  clusters  \n",
       "0           0.28             2.29   5.64  1.04      3.92     1065         3  \n",
       "1           0.26             1.28   4.38  1.05      3.40     1050         3  \n",
       "3           0.24             2.18   7.80  0.86      3.45     1480         1  \n",
       "4           0.39             1.82   4.32  1.04      2.93      735         0  \n",
       "5           0.34             1.97   6.75  1.05      2.85     1450         1  "
      ]
     },
     "execution_count": 83,
     "metadata": {},
     "output_type": "execute_result"
    }
   ],
   "source": [
    "data.head()"
   ]
  },
  {
   "cell_type": "markdown",
   "id": "208fa9e8",
   "metadata": {},
   "source": [
    "column clusters is y-parameter"
   ]
  },
  {
   "cell_type": "markdown",
   "id": "f7891c05",
   "metadata": {},
   "source": [
    "# Visualization"
   ]
  },
  {
   "cell_type": "code",
   "execution_count": 84,
   "id": "8f2d522e",
   "metadata": {},
   "outputs": [
    {
     "data": {
      "text/plain": [
       "<seaborn.axisgrid.FacetGrid at 0x16659eba850>"
      ]
     },
     "execution_count": 84,
     "metadata": {},
     "output_type": "execute_result"
    },
    {
     "data": {
      "image/png": "[encoded data removed]",
      "text/plain": [
       "<Figure size 565.361x500 with 1 Axes>"
      ]
     },
     "metadata": {},
     "output_type": "display_data"
    }
   ],
   "source": [
    "# lmplot() method is used to draw a scatter plot on a FacetGrid. This method use x,y parameters\n",
    "sns.lmplot(data=data, x= 'Alcalinity',y='Nonflavanoids', fit_reg=False,hue='clusters',palette='Set1') "
   ]
  },
  {
   "cell_type": "code",
   "execution_count": 85,
   "id": "018350a8",
   "metadata": {},
   "outputs": [
    {
     "data": {
      "image/png": "[encoded data removed]",
      "text/plain": [
       "<Figure size 565.361x500 with 1 Axes>"
      ]
     },
     "metadata": {},
     "output_type": "display_data"
    }
   ],
   "source": [
    "sns.lmplot(data=data, x= 'Alcalinity',y='Nonflavanoids', fit_reg=False,hue='clusters',palette='Set1')\n",
    "plt.scatter(kmeans.cluster_centers_[:,0],kmeans.cluster_centers_[:,1], s=300,c='yellow') # fill centers of all clusters with yellow color\n",
    "\n",
    "plt.show()"
   ]
  },
  {
   "cell_type": "markdown",
   "id": "fc254f22",
   "metadata": {},
   "source": [
    "plot shows very poor clustering (overlapping)"
   ]
  },
  {
   "cell_type": "markdown",
   "id": "42c39a89",
   "metadata": {},
   "source": [
    "# Evaluation and Performance Metrics:"
   ]
  },
  {
   "cell_type": "code",
   "execution_count": 86,
   "id": "ac042f2f",
   "metadata": {},
   "outputs": [
    {
     "data": {
      "text/plain": [
       "0.567530119089476"
      ]
     },
     "execution_count": 86,
     "metadata": {},
     "output_type": "execute_result"
    }
   ],
   "source": [
    "from sklearn.metrics import silhouette_score\n",
    "silhouette_score(X, Y_pred)"
   ]
  },
  {
   "cell_type": "markdown",
   "id": "e5e17595",
   "metadata": {},
   "source": [
    "The best value is 1 and the worst value is -1. Values near 0 indicate overlapping clusters. Negative values generally indicate that a sample has been assigned to the wrong cluster"
   ]
  },
  {
   "cell_type": "markdown",
   "id": "50b5dcee",
   "metadata": {},
   "source": [
    "# Task 4: Clustering with PCA Data:"
   ]
  },
  {
   "cell_type": "markdown",
   "id": "f7aabbeb",
   "metadata": {},
   "source": [
    "# Apply the same clustering algorithm to the PCA-transformed dataset"
   ]
  },
  {
   "cell_type": "code",
   "execution_count": 87,
   "id": "c6f68c33",
   "metadata": {},
   "outputs": [
    {
     "data": {
      "text/plain": [
       "Text(0, 0.5, 'WCSS')"
      ]
     },
     "execution_count": 87,
     "metadata": {},
     "output_type": "execute_result"
    },
    {
     "data": {
      "image/png": "[encoded data removed]",
      "text/plain": [
       "<Figure size 640x480 with 1 Axes>"
      ]
     },
     "metadata": {},
     "output_type": "display_data"
    }
   ],
   "source": [
    "from sklearn.cluster import KMeans  # K means clustering algo\n",
    "\n",
    "wcss = [] # empty list\n",
    "for K in range(1,11):\n",
    "    kmeans = KMeans(n_clusters=K,random_state=10)  # define algorithm\n",
    "    kmeans.fit(x_pca)  # train algorithm using principal components\n",
    "    wcss.append(kmeans.inertia_)  # append distance in the empty list\n",
    "    \n",
    "plt.plot(range(1,11),wcss)\n",
    "plt.title('The Elbow Method')\n",
    "plt.xlabel('No of clusters')\n",
    "plt.ylabel(\"WCSS\")"
   ]
  },
  {
   "cell_type": "markdown",
   "id": "65815107",
   "metadata": {},
   "source": [
    "At K= 3, graph stop reducing drastically . So, K=3 is the optimal no. of clusters"
   ]
  },
  {
   "cell_type": "code",
   "execution_count": 88,
   "id": "6ba127f9",
   "metadata": {},
   "outputs": [],
   "source": [
    "#Again train the model using best value of K i.e. K =3\n",
    "kmeans = KMeans(n_clusters=3,random_state=10)\n",
    "Y_pred = kmeans.fit_predict(x_pca)   # train the model & then calculate the predicted classes for given dataset"
   ]
  },
  {
   "cell_type": "code",
   "execution_count": 89,
   "id": "09e12111",
   "metadata": {},
   "outputs": [
    {
     "data": {
      "text/plain": [
       "array([0, 0, 0, 0, 0, 0, 0, 0, 0, 0, 0, 0, 0, 0, 0, 0, 0, 0, 0, 0, 0, 0,\n",
       "       0, 0, 0, 0, 0, 0, 0, 0, 0, 0, 0, 0, 0, 0, 0, 0, 0, 0, 0, 0, 0, 0,\n",
       "       0, 0, 0, 0, 0, 0, 0, 0, 0, 0, 1, 1, 1, 1, 1, 1, 1, 1, 1, 1, 1, 1,\n",
       "       1, 1, 1, 1, 1, 1, 2, 1, 1, 1, 1, 1, 1, 1, 1, 1, 1, 1, 1, 1, 0, 1,\n",
       "       1, 1, 1, 1, 1, 1, 1, 1, 1, 1, 1, 1, 1, 1, 1, 1, 1, 1, 1, 1, 1, 1,\n",
       "       2, 2, 2, 2, 2, 2, 2, 2, 2, 2, 2, 2, 2, 2, 2, 2, 2, 2, 2, 2, 2, 2,\n",
       "       2, 2, 2, 2, 2, 2, 2, 2, 2, 2, 2, 2, 2, 2, 2, 2])"
      ]
     },
     "execution_count": 89,
     "metadata": {},
     "output_type": "execute_result"
    }
   ],
   "source": [
    "Y_pred"
   ]
  },
  {
   "cell_type": "code",
   "execution_count": 90,
   "id": "869ba6fd",
   "metadata": {},
   "outputs": [],
   "source": [
    "data['clusters'] = Y_pred # add a new column "
   ]
  },
  {
   "cell_type": "code",
   "execution_count": 91,
   "id": "8dd81097",
   "metadata": {},
   "outputs": [
    {
     "data": {
      "text/html": [
       "<div>\n",
       "<style scoped>\n",
       "    .dataframe tbody tr th:only-of-type {\n",
       "        vertical-align: middle;\n",
       "    }\n",
       "\n",
       "    .dataframe tbody tr th {\n",
       "        vertical-align: top;\n",
       "    }\n",
       "\n",
       "    .dataframe thead th {\n",
       "        text-align: right;\n",
       "    }\n",
       "</style>\n",
       "<table border=\"1\" class=\"dataframe\">\n",
       "  <thead>\n",
       "    <tr style=\"text-align: right;\">\n",
       "      <th></th>\n",
       "      <th>Type</th>\n",
       "      <th>Alcohol</th>\n",
       "      <th>Malic</th>\n",
       "      <th>Ash</th>\n",
       "      <th>Alcalinity</th>\n",
       "      <th>Magnesium</th>\n",
       "      <th>Phenols</th>\n",
       "      <th>Flavanoids</th>\n",
       "      <th>Nonflavanoids</th>\n",
       "      <th>Proanthocyanins</th>\n",
       "      <th>Color</th>\n",
       "      <th>Hue</th>\n",
       "      <th>Dilution</th>\n",
       "      <th>Proline</th>\n",
       "      <th>clusters</th>\n",
       "    </tr>\n",
       "  </thead>\n",
       "  <tbody>\n",
       "    <tr>\n",
       "      <th>0</th>\n",
       "      <td>1</td>\n",
       "      <td>14.23</td>\n",
       "      <td>1.71</td>\n",
       "      <td>2.43</td>\n",
       "      <td>15.6</td>\n",
       "      <td>127</td>\n",
       "      <td>2.80</td>\n",
       "      <td>3.06</td>\n",
       "      <td>0.28</td>\n",
       "      <td>2.29</td>\n",
       "      <td>5.64</td>\n",
       "      <td>1.04</td>\n",
       "      <td>3.92</td>\n",
       "      <td>1065</td>\n",
       "      <td>0</td>\n",
       "    </tr>\n",
       "    <tr>\n",
       "      <th>1</th>\n",
       "      <td>1</td>\n",
       "      <td>13.20</td>\n",
       "      <td>1.78</td>\n",
       "      <td>2.14</td>\n",
       "      <td>11.2</td>\n",
       "      <td>100</td>\n",
       "      <td>2.65</td>\n",
       "      <td>2.76</td>\n",
       "      <td>0.26</td>\n",
       "      <td>1.28</td>\n",
       "      <td>4.38</td>\n",
       "      <td>1.05</td>\n",
       "      <td>3.40</td>\n",
       "      <td>1050</td>\n",
       "      <td>0</td>\n",
       "    </tr>\n",
       "    <tr>\n",
       "      <th>3</th>\n",
       "      <td>1</td>\n",
       "      <td>14.37</td>\n",
       "      <td>1.95</td>\n",
       "      <td>2.50</td>\n",
       "      <td>16.8</td>\n",
       "      <td>113</td>\n",
       "      <td>3.85</td>\n",
       "      <td>3.49</td>\n",
       "      <td>0.24</td>\n",
       "      <td>2.18</td>\n",
       "      <td>7.80</td>\n",
       "      <td>0.86</td>\n",
       "      <td>3.45</td>\n",
       "      <td>1480</td>\n",
       "      <td>0</td>\n",
       "    </tr>\n",
       "    <tr>\n",
       "      <th>4</th>\n",
       "      <td>1</td>\n",
       "      <td>13.24</td>\n",
       "      <td>2.59</td>\n",
       "      <td>2.87</td>\n",
       "      <td>21.0</td>\n",
       "      <td>118</td>\n",
       "      <td>2.80</td>\n",
       "      <td>2.69</td>\n",
       "      <td>0.39</td>\n",
       "      <td>1.82</td>\n",
       "      <td>4.32</td>\n",
       "      <td>1.04</td>\n",
       "      <td>2.93</td>\n",
       "      <td>735</td>\n",
       "      <td>0</td>\n",
       "    </tr>\n",
       "    <tr>\n",
       "      <th>5</th>\n",
       "      <td>1</td>\n",
       "      <td>14.20</td>\n",
       "      <td>1.76</td>\n",
       "      <td>2.45</td>\n",
       "      <td>15.2</td>\n",
       "      <td>112</td>\n",
       "      <td>3.27</td>\n",
       "      <td>3.39</td>\n",
       "      <td>0.34</td>\n",
       "      <td>1.97</td>\n",
       "      <td>6.75</td>\n",
       "      <td>1.05</td>\n",
       "      <td>2.85</td>\n",
       "      <td>1450</td>\n",
       "      <td>0</td>\n",
       "    </tr>\n",
       "  </tbody>\n",
       "</table>\n",
       "</div>"
      ],
      "text/plain": [
       "   Type  Alcohol  Malic   Ash  Alcalinity  Magnesium  Phenols  Flavanoids  \\\n",
       "0     1    14.23   1.71  2.43        15.6        127     2.80        3.06   \n",
       "1     1    13.20   1.78  2.14        11.2        100     2.65        2.76   \n",
       "3     1    14.37   1.95  2.50        16.8        113     3.85        3.49   \n",
       "4     1    13.24   2.59  2.87        21.0        118     2.80        2.69   \n",
       "5     1    14.20   1.76  2.45        15.2        112     3.27        3.39   \n",
       "\n",
       "   Nonflavanoids  Proanthocyanins  Color   Hue  Dilution  Proline  clusters  \n",
       "0           0.28             2.29   5.64  1.04      3.92     1065         0  \n",
       "1           0.26             1.28   4.38  1.05      3.40     1050         0  \n",
       "3           0.24             2.18   7.80  0.86      3.45     1480         0  \n",
       "4           0.39             1.82   4.32  1.04      2.93      735         0  \n",
       "5           0.34             1.97   6.75  1.05      2.85     1450         0  "
      ]
     },
     "execution_count": 91,
     "metadata": {},
     "output_type": "execute_result"
    }
   ],
   "source": [
    "data.head()  # column clusters is y-parameter"
   ]
  },
  {
   "cell_type": "markdown",
   "id": "1e7d197d",
   "metadata": {},
   "source": [
    "# Visualization"
   ]
  },
  {
   "cell_type": "code",
   "execution_count": 92,
   "id": "4bdca901",
   "metadata": {},
   "outputs": [
    {
     "data": {
      "image/png": "[encoded data removed]",
      "text/plain": [
       "<Figure size 800x600 with 1 Axes>"
      ]
     },
     "metadata": {},
     "output_type": "display_data"
    }
   ],
   "source": [
    "# plot\n",
    "plt.figure(figsize=(8, 6))\n",
    "\n",
    "plt.scatter(x_pca[:, 0], x_pca[:, 1],c=data['clusters'],cmap='plasma') # show distribution of clusters on the principal components  \n",
    "\n",
    "                                                                    \n",
    "# labeling x and y axes\n",
    "plt.xlabel('First Principal Component')\n",
    "plt.ylabel('Second Principal Component')\n",
    "plt.show()"
   ]
  },
  {
   "cell_type": "markdown",
   "id": "2e95eb83",
   "metadata": {},
   "source": [
    "We have 3 clusters which can be easily identified. So, good clustering"
   ]
  },
  {
   "cell_type": "markdown",
   "id": "dbabd1e5",
   "metadata": {},
   "source": [
    "# Evaluation and Performance Metrics:"
   ]
  },
  {
   "cell_type": "code",
   "execution_count": 93,
   "id": "77b83001",
   "metadata": {},
   "outputs": [
    {
     "data": {
      "text/plain": [
       "0.5693196399138151"
      ]
     },
     "execution_count": 93,
     "metadata": {},
     "output_type": "execute_result"
    }
   ],
   "source": [
    "from sklearn.metrics import silhouette_score\n",
    "silhouette_score(x_pca, Y_pred)"
   ]
  },
  {
   "cell_type": "markdown",
   "id": "bc702414",
   "metadata": {},
   "source": [
    "The best value is 1 and the worst value is -1. Values near 0 indicate overlapping clusters. Negative values generally indicate that a sample has been assigned to the wrong cluster"
   ]
  },
  {
   "cell_type": "markdown",
   "id": "6645620e",
   "metadata": {},
   "source": [
    "# Conclusion "
   ]
  },
  {
   "cell_type": "markdown",
   "id": "16253e18",
   "metadata": {},
   "source": [
    "When we apply the K-means clustering algorithm to the PCA-transformed dataset, we got the optimal no. of clusters =3 whereas when the same algorithm is applied to the original dataset, optimal no. of clusters = 4 . A good model has low no. of clusters. Due to this reason, PCA-transformed dataset shows better clustering than the original dataset. "
   ]
  },
  {
   "cell_type": "code",
   "execution_count": null,
   "id": "e151e16a",
   "metadata": {},
   "outputs": [],
   "source": []
  }
 ],
 "metadata": {
  "kernelspec": {
   "display_name": "Python 3 (ipykernel)",
   "language": "python",
   "name": "python3"
  },
  "language_info": {
   "codemirror_mode": {
    "name": "ipython",
    "version": 3
   },
   "file_extension": ".py",
   "mimetype": "text/x-python",
   "name": "python",
   "nbconvert_exporter": "python",
   "pygments_lexer": "ipython3",
   "version": "3.9.13"
  }
 },
 "nbformat": 4,
 "nbformat_minor": 5
}
